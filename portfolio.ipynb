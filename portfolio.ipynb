{
 "cells": [
  {
   "cell_type": "code",
   "execution_count": 6,
   "id": "91233d54",
   "metadata": {},
   "outputs": [],
   "source": [
    "import pandas as pd\n",
    "import numpy as np\n",
    "import gurobipy as gp\n",
    "from gurobipy import GRB"
   ]
  },
  {
   "cell_type": "code",
   "execution_count": 7,
   "id": "91178a14",
   "metadata": {},
   "outputs": [],
   "source": [
    "#read file\n",
    "file = open('port5.txt', 'r')\n",
    "stock_number = int(file.readline())\n",
    "stock_mean = []\n",
    "stock_std = []\n",
    "stock_cov = []\n",
    "\n",
    "for i in range(stock_number):\n",
    "    temp = file.readline().split()\n",
    "    temp = [float(k) for k in temp]\n",
    "    stock_mean.append(temp[0])\n",
    "    stock_std.append(temp[1])\n",
    "    \n",
    "for i in range(stock_number):\n",
    "    temp_list = []\n",
    "    for j in range(stock_number):\n",
    "        if(j < i):\n",
    "            #temp_list.append(stock_cov[j][i])\n",
    "            temp_list.append(0)\n",
    "        else:\n",
    "            temp = file.readline().split()\n",
    "            temp_list.append(float(temp[2]))\n",
    "    stock_cov.append(temp_list)\n",
    "    \n",
    "\n",
    "data ={'stock':[i for i in range(stock_number)],\n",
    "                   'mean':stock_mean,\n",
    "                   'std':stock_std,\n",
    "      'cov':stock_cov}\n",
    "data = pd.DataFrame(data)\n",
    "stock_cov = np.array(stock_cov)\n",
    "file.close()"
   ]
  },
  {
   "cell_type": "code",
   "execution_count": 8,
   "id": "0569ae40",
   "metadata": {},
   "outputs": [
    {
     "name": "stdout",
     "output_type": "stream",
     "text": [
      "     stock      mean       std  \\\n",
      "0        0 -0.001117  0.037894   \n",
      "1        1  0.003123  0.049735   \n",
      "2        2 -0.003471  0.048318   \n",
      "3        3 -0.000585  0.043137   \n",
      "4        4 -0.000769  0.035887   \n",
      "..     ...       ...       ...   \n",
      "220    220 -0.002030  0.036741   \n",
      "221    221 -0.002433  0.042138   \n",
      "222    222  0.000065  0.034573   \n",
      "223    223  0.000060  0.038612   \n",
      "224    224 -0.000992  0.028306   \n",
      "\n",
      "                                                   cov  \n",
      "0    [1.0, 0.400689, 0.533499, 0.575209, 0.524052, ...  \n",
      "1    [0, 1.0, 0.394083, 0.29892, 0.376573, 0.336374...  \n",
      "2    [0, 0, 1.0, 0.56979, 0.567901, 0.661618, 0.640...  \n",
      "3    [0, 0, 0, 1.0, 0.522017, 0.523995, 0.529387, 0...  \n",
      "4    [0, 0, 0, 0, 1.0, 0.601431, 0.545058, 0.574818...  \n",
      "..                                                 ...  \n",
      "220  [0, 0, 0, 0, 0, 0, 0, 0, 0, 0, 0, 0, 0, 0, 0, ...  \n",
      "221  [0, 0, 0, 0, 0, 0, 0, 0, 0, 0, 0, 0, 0, 0, 0, ...  \n",
      "222  [0, 0, 0, 0, 0, 0, 0, 0, 0, 0, 0, 0, 0, 0, 0, ...  \n",
      "223  [0, 0, 0, 0, 0, 0, 0, 0, 0, 0, 0, 0, 0, 0, 0, ...  \n",
      "224  [0, 0, 0, 0, 0, 0, 0, 0, 0, 0, 0, 0, 0, 0, 0, ...  \n",
      "\n",
      "[225 rows x 4 columns]\n"
     ]
    }
   ],
   "source": [
    "print(data)"
   ]
  },
  {
   "cell_type": "code",
   "execution_count": 10,
   "id": "f0fa44d6",
   "metadata": {},
   "outputs": [
    {
     "name": "stdout",
     "output_type": "stream",
     "text": [
      "expected revenue =  0.0002797591621579848\n",
      "min risk =  0.00018675780942802318\n"
     ]
    }
   ],
   "source": [
    "#Create an empty model\n",
    "m = gp.Model('protfolio')\n",
    "\n",
    "# add a variable for each stock\n",
    "var = pd.Series(m.addVars([i for i in range(stock_number)]))\n",
    "\n",
    "# set objective\n",
    "obj = (var*data['std']).dot(stock_cov).transpose().dot(var*data['std'])\n",
    "\n",
    "m.setObjective(obj, GRB.MINIMIZE)\n",
    "\n",
    "# set constrain on budget\n",
    "m.addConstr(var.sum() == 1, 'budget')\n",
    "\n",
    "# set constrain on expect revenue\n",
    "r = m.addVar(name = 'R')\n",
    "\n",
    "m.addConstr(var.dot(data['mean']) - r == 0, 'expect_revenue')\n",
    "m.update()\n",
    "# optimize model to find the minimum risk portfolio\n",
    "m.setParam('OutputFlag', 0)\n",
    "m.params.NonConvex = 2\n",
    "m.optimize()\n",
    "#for i in var:\n",
    "#    if i.X > 1e-6:\n",
    "#        print(i.varName, i.X)\n",
    "\n",
    "print(\"expected revenue = \",m.getVarByName('R').X)\n",
    "print(\"min risk = \", m.getObjective().getValue())\n"
   ]
  }
 ],
 "metadata": {
  "kernelspec": {
   "display_name": "Python 3 (ipykernel)",
   "language": "python",
   "name": "python3"
  },
  "language_info": {
   "codemirror_mode": {
    "name": "ipython",
    "version": 3
   },
   "file_extension": ".py",
   "mimetype": "text/x-python",
   "name": "python",
   "nbconvert_exporter": "python",
   "pygments_lexer": "ipython3",
   "version": "3.9.12"
  }
 },
 "nbformat": 4,
 "nbformat_minor": 5
}
