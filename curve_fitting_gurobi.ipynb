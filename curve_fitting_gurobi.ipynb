{
  "cells": [
    {
      "cell_type": "markdown",
      "metadata": {
        "id": "view-in-github",
        "colab_type": "text"
      },
      "source": [
        "<a href=\"https://colab.research.google.com/github/bradykuo/Numerical-Optimization/blob/main/curve_fitting_gurobi.ipynb\" target=\"_parent\"><img src=\"https://colab.research.google.com/assets/colab-badge.svg\" alt=\"Open In Colab\"/></a>"
      ]
    },
    {
      "cell_type": "code",
      "execution_count": null,
      "id": "032f7de5",
      "metadata": {
        "id": "032f7de5",
        "outputId": "22badec7-f5fe-4867-9040-79f811b4b2d2"
      },
      "outputs": [
        {
          "name": "stdout",
          "output_type": "stream",
          "text": [
            "Gurobi Optimizer version 9.5.1 build v9.5.1rc2 (mac64[x86])\n",
            "Thread count: 2 physical cores, 4 logical processors, using up to 4 threads\n",
            "Optimize a model with 4 rows, 15 columns and 20 nonzeros\n",
            "Model fingerprint: 0x8386bba8\n",
            "Coefficient statistics:\n",
            "  Matrix range     [1e+00, 2e+01]\n",
            "  Objective range  [1e+00, 1e+00]\n",
            "  Bounds range     [0e+00, 0e+00]\n",
            "  RHS range        [1e+02, 1e+02]\n",
            "Presolve removed 0 rows and 4 columns\n",
            "Presolve time: 0.02s\n",
            "Presolved: 4 rows, 11 columns, 20 nonzeros\n",
            "\n",
            "Iteration    Objective       Primal Inf.    Dual Inf.      Time\n",
            "       0      handle free variables                          0s\n",
            "       3    5.7142857e-03   0.000000e+00   0.000000e+00      0s\n",
            "\n",
            "Solved in 3 iterations and 0.04 seconds (0.00 work units)\n",
            "Optimal objective  5.714285714e-03\n",
            "1.5199999999979465\n",
            "-1.2542857142847366\n",
            "6.628571428571313\n",
            "\n",
            "Minimum distance_sum:  0.0057142857143333\n"
          ]
        }
      ],
      "source": [
        "import numpy as np\n",
        "from gurobipy import*\n",
        "\n",
        "i, X, Y = multidict({1:[4,102.56], 2:[4.2,113.18], 3:[4.5,130.11],4:[4.7,142.05]})\n",
        "\n",
        "m = Model(\"P1\")\n",
        "alpha = m.addVars(3, lb = -GRB.INFINITY, vtype = GRB.CONTINUOUS, name = \"alpha\")\n",
        "f = m.addVars(i, vtype = GRB.CONTINUOUS, name = \"f\")\n",
        "t = m.addVars(i, lb = 0, vtype = GRB.CONTINUOUS, name = \"t\")\n",
        "s = m.addVars(i, lb = 0, vtype = GRB.CONTINUOUS, name = \"s\")\n",
        "m.update()\n",
        "\n",
        "m.setObjective(quicksum(t[k]+s[k] for k in i),GRB.MINIMIZE)\n",
        "\n",
        "for k in i :\n",
        "    f[k] = alpha[2]*X[k]**2 + alpha[1]*X[k] + alpha[0]\n",
        "\n",
        "for k in i :\n",
        "    m.addConstr((Y[k]-f[k]-t[k]+s[k]) == 0)\n",
        "\n",
        "m.optimize()\n",
        "\n",
        "for i in range (0,3):\n",
        "    print(alpha[i].X)\n",
        "\n",
        "print('\\nMinimum distance_sum: ', m.objVal)\n"
      ]
    },
    {
      "cell_type": "code",
      "execution_count": null,
      "id": "74d988f6",
      "metadata": {
        "id": "74d988f6"
      },
      "outputs": [],
      "source": []
    },
    {
      "cell_type": "code",
      "execution_count": null,
      "id": "fcc12b20",
      "metadata": {
        "id": "fcc12b20"
      },
      "outputs": [],
      "source": []
    }
  ],
  "metadata": {
    "kernelspec": {
      "display_name": "Python 3",
      "language": "python",
      "name": "python3"
    },
    "language_info": {
      "codemirror_mode": {
        "name": "ipython",
        "version": 3
      },
      "file_extension": ".py",
      "mimetype": "text/x-python",
      "name": "python",
      "nbconvert_exporter": "python",
      "pygments_lexer": "ipython3",
      "version": "3.8.8"
    },
    "colab": {
      "provenance": [],
      "include_colab_link": true
    }
  },
  "nbformat": 4,
  "nbformat_minor": 5
}