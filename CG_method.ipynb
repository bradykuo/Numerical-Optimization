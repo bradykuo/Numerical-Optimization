{
  "cells": [
    {
      "cell_type": "markdown",
      "metadata": {
        "id": "view-in-github",
        "colab_type": "text"
      },
      "source": [
        "<a href=\"https://colab.research.google.com/github/bradykuo/Numerical-Optimization/blob/main/CG_method.ipynb\" target=\"_parent\"><img src=\"https://colab.research.google.com/assets/colab-badge.svg\" alt=\"Open In Colab\"/></a>"
      ]
    },
    {
      "cell_type": "code",
      "execution_count": null,
      "id": "f27641d9",
      "metadata": {
        "id": "f27641d9"
      },
      "outputs": [],
      "source": [
        "import numpy as np\n",
        "import pandas as pd\n",
        "import gurobipy as gp\n",
        "import random\n"
      ]
    },
    {
      "cell_type": "code",
      "execution_count": null,
      "id": "926a4ce8",
      "metadata": {
        "id": "926a4ce8",
        "outputId": "9f436398-558b-44b7-9fc7-cd06c74f431a"
      },
      "outputs": [
        {
          "name": "stdout",
          "output_type": "stream",
          "text": [
            "[[ 2  0  0  0  0  0  0  0  0  0]\n",
            " [ 0  4  0  0  0  0  0  0  0  0]\n",
            " [ 0  0  6  0  0  0  0  0  0  0]\n",
            " [ 0  0  0  8  0  0  0  0  0  0]\n",
            " [ 0  0  0  0 10  0  0  0  0  0]\n",
            " [ 0  0  0  0  0 12  0  0  0  0]\n",
            " [ 0  0  0  0  0  0 14  0  0  0]\n",
            " [ 0  0  0  0  0  0  0 16  0  0]\n",
            " [ 0  0  0  0  0  0  0  0 18  0]\n",
            " [ 0  0  0  0  0  0  0  0  0 20]]\n"
          ]
        }
      ],
      "source": [
        "Diag =[]\n",
        "for i in range(1,11):\n",
        "    Diag.append(i*2)\n",
        "Q = np.diag(Diag)\n",
        "print(Q)"
      ]
    },
    {
      "cell_type": "code",
      "execution_count": null,
      "id": "632071a0",
      "metadata": {
        "id": "632071a0",
        "outputId": "98070663-6c14-449c-95f3-c91f63a879a5"
      },
      "outputs": [
        {
          "name": "stdout",
          "output_type": "stream",
          "text": [
            "[[ 1.5  1.   1.   0.5  0.5  0.   0.   0.   0.   0. ]\n",
            " [ 0.   0.   0.   0.   0.   2.  -0.5 -0.5  1.  -1. ]\n",
            " [ 1.   0.   1.   0.   1.   0.   1.   0.   1.   0. ]\n",
            " [ 0.   1.   0.   1.   0.   1.   0.   1.   0.   1. ]]\n",
            "[[ 5.5]\n",
            " [ 2. ]\n",
            " [10. ]\n",
            " [15. ]]\n"
          ]
        }
      ],
      "source": [
        "A=[]\n",
        "b=[]\n",
        "A.append([1.5,1,1,0.5,0.5,0,0,0,0,0])\n",
        "b.append([5.5])\n",
        "A.append([0,0,0,0,0,2,-0.5,-0.5,1,-1])\n",
        "b.append([2])\n",
        "A.append([1,0,1,0,1,0,1,0,1,0])\n",
        "b.append([10])\n",
        "A.append([0,1,0,1,0,1,0,1,0,1])\n",
        "b.append([15])\n",
        "A = np.array(A)\n",
        "b = np.array(b)\n",
        "print(A)\n",
        "print(b)"
      ]
    },
    {
      "cell_type": "code",
      "execution_count": null,
      "id": "28efee1b",
      "metadata": {
        "id": "28efee1b"
      },
      "outputs": [],
      "source": [
        "n,m = 10,4\n",
        "QP = gp.Model(\"RealMan\")\n",
        "x=[]\n",
        "for i in range(n):\n",
        "    x.append(QP.addVar(name = 'X'+ str(i)))\n"
      ]
    },
    {
      "cell_type": "code",
      "execution_count": null,
      "id": "fb09e966",
      "metadata": {
        "id": "fb09e966"
      },
      "outputs": [],
      "source": [
        "t,obj =[],0\n",
        "for j in range(n):\n",
        "    t.append(0)\n",
        "    for i in range(n):\n",
        "        t[j] = t[j] + x[i] * float(Q[i,j])\n",
        "    obj = obj +t[j]*x[j]\n",
        "\n",
        "obj = obj/2\n"
      ]
    },
    {
      "cell_type": "code",
      "execution_count": null,
      "id": "4cd237f3",
      "metadata": {
        "id": "4cd237f3"
      },
      "outputs": [],
      "source": [
        "QP.setObjective(obj,gp.GRB.MINIMIZE)"
      ]
    },
    {
      "cell_type": "code",
      "execution_count": null,
      "id": "459cfa2e",
      "metadata": {
        "id": "459cfa2e"
      },
      "outputs": [],
      "source": [
        "for i in range(m):\n",
        "    QP.addConstr(sum((A[i,j]*x[j] for j in range(n))) == b[i], \"linear\" + str(i))"
      ]
    },
    {
      "cell_type": "code",
      "execution_count": null,
      "id": "0d11cf36",
      "metadata": {
        "id": "0d11cf36",
        "outputId": "cd4585df-e93d-44dd-da5b-f4c1247685f9"
      },
      "outputs": [
        {
          "name": "stdout",
          "output_type": "stream",
          "text": [
            "Gurobi Optimizer version 9.5.2 build v9.5.2rc0 (win64)\n",
            "Thread count: 6 physical cores, 12 logical processors, using up to 12 threads\n",
            "Optimize a model with 4 rows, 10 columns and 20 nonzeros\n",
            "Model fingerprint: 0x31e01e63\n",
            "Model has 10 quadratic objective terms\n",
            "Coefficient statistics:\n",
            "  Matrix range     [5e-01, 2e+00]\n",
            "  Objective range  [0e+00, 0e+00]\n",
            "  QObjective range [2e+00, 2e+01]\n",
            "  Bounds range     [0e+00, 0e+00]\n",
            "  RHS range        [2e+00, 2e+01]\n",
            "Presolve time: 0.00s\n",
            "Presolved: 4 rows, 10 columns, 20 nonzeros\n",
            "Presolved model has 10 quadratic objective terms\n",
            "Ordering time: 0.00s\n",
            "\n",
            "Barrier statistics:\n",
            " AA' NZ     : 4.000e+00\n",
            " Factor NZ  : 1.000e+01\n",
            " Factor Ops : 3.000e+01 (less than 1 second per iteration)\n",
            " Threads    : 1\n",
            "\n",
            "                  Objective                Residual\n",
            "Iter       Primal          Dual         Primal    Dual     Compl     Time\n",
            "   0   3.18390599e+06 -3.18390599e+06  2.75e+03 0.00e+00  1.01e+06     0s\n",
            "   1   2.29648925e+04 -1.23747240e+05  1.72e+02 0.00e+00  7.40e+04     0s\n",
            "   2   9.66489543e+02 -7.10996823e+04  2.99e+00 0.00e+00  7.99e+03     0s\n",
            "   3   8.68317160e+02 -4.45883587e+03  1.60e-01 0.00e+00  5.38e+02     0s\n",
            "   4   5.55110045e+02 -1.22842374e+03  1.60e-07 7.11e-15  1.78e+02     0s\n",
            "   5   5.34279123e+02  3.94147795e+02  1.16e-08 1.78e-15  1.40e+01     0s\n",
            "   6   5.22599228e+02  5.12691997e+02  1.42e-14 0.00e+00  9.91e-01     0s\n",
            "   7   5.21652462e+02  5.21469857e+02  8.88e-16 1.78e-15  1.83e-02     0s\n",
            "   8   5.21631911e+02  5.21631730e+02  3.55e-15 1.78e-15  1.81e-05     0s\n",
            "   9   5.21631892e+02  5.21631891e+02  3.55e-15 2.41e-15  1.81e-08     0s\n",
            "  10   5.21631892e+02  5.21631892e+02  8.88e-16 3.27e-15  1.81e-11     0s\n",
            "\n",
            "Barrier solved model in 10 iterations and 0.01 seconds (0.00 work units)\n",
            "Optimal objective 5.21631892e+02\n",
            "\n"
          ]
        }
      ],
      "source": [
        "QP.optimize()"
      ]
    },
    {
      "cell_type": "code",
      "execution_count": null,
      "id": "6d2b9f12",
      "metadata": {
        "id": "6d2b9f12",
        "outputId": "05a6b0ed-cac0-437b-c4e3-b2d92f39693c"
      },
      "outputs": [
        {
          "name": "stdout",
          "output_type": "stream",
          "text": [
            "The decision varible is X0 1.01579e-12\n",
            "The decision varible is X1 1.49117\n",
            "The decision varible is X2 0.746195\n",
            "The decision varible is X3 3.70779\n",
            "The decision varible is X4 2.81749\n",
            "The decision varible is X5 3.18105\n",
            "The decision varible is X6 3.97639\n",
            "The decision varible is X7 3.57231\n",
            "The decision varible is X8 2.45993\n",
            "The decision varible is X9 3.04769\n",
            "Obj: 521.632\n"
          ]
        },
        {
          "data": {
            "text/plain": [
              "array([[0.0000000e+00],\n",
              "       [8.8817842e-16],\n",
              "       [0.0000000e+00],\n",
              "       [0.0000000e+00]])"
            ]
          },
          "execution_count": 94,
          "metadata": {},
          "output_type": "execute_result"
        }
      ],
      "source": [
        "optimalSolution =[]\n",
        "for v in QP.getVars():\n",
        "    optimalSolution.append([v.X])\n",
        "    print('The decision varible is %s %g' % (v.VarName, v.X))\n",
        "\n",
        "print('Obj: %g' % obj.getValue())\n",
        "optimalSolution = np.array(optimalSolution)\n",
        "A.dot(optimalSolution)-b"
      ]
    },
    {
      "cell_type": "code",
      "execution_count": null,
      "id": "432f3316",
      "metadata": {
        "id": "432f3316"
      },
      "outputs": [],
      "source": []
    },
    {
      "cell_type": "code",
      "execution_count": null,
      "id": "27c2cca8",
      "metadata": {
        "id": "27c2cca8",
        "outputId": "568e2245-0dd6-4734-f786-bb163e06da85"
      },
      "outputs": [
        {
          "data": {
            "text/plain": [
              "'\\ndef CGn(Q,q old_xk,numberMaxStep):\\n    rk,tk,beatak,dk,printOption=[],[],[],[],0\\n    xk=[]\\n    xk.append(old_xk[-1])\\n    k ,n=0,len(Q)\\n    if printOption!=0:\\n        print(\"The iteration number is %d:\" % k) \\n    print()\\n'"
            ]
          },
          "execution_count": 89,
          "metadata": {},
          "output_type": "execute_result"
        }
      ],
      "source": [
        "\"\"\"\n",
        "def CGn(Q,q old_xk,numberMaxStep):\n",
        "    rk,tk,beatak,dk,printOption=[],[],[],[],0\n",
        "    xk=[]\n",
        "    xk.append(old_xk[-1])\n",
        "    k ,n=0,len(Q)\n",
        "    if printOption!=0:\n",
        "        print(\"The iteration number is %d:\" % k)\n",
        "    print()\n",
        "\"\"\""
      ]
    },
    {
      "cell_type": "code",
      "execution_count": null,
      "id": "9004f2c0",
      "metadata": {
        "id": "9004f2c0"
      },
      "outputs": [],
      "source": []
    }
  ],
  "metadata": {
    "kernelspec": {
      "display_name": "Python 3",
      "language": "python",
      "name": "python3"
    },
    "language_info": {
      "codemirror_mode": {
        "name": "ipython",
        "version": 3
      },
      "file_extension": ".py",
      "mimetype": "text/x-python",
      "name": "python",
      "nbconvert_exporter": "python",
      "pygments_lexer": "ipython3",
      "version": "3.8.8"
    },
    "colab": {
      "provenance": [],
      "include_colab_link": true
    }
  },
  "nbformat": 4,
  "nbformat_minor": 5
}