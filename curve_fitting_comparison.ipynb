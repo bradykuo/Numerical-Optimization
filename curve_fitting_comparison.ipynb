{
  "cells": [
    {
      "cell_type": "markdown",
      "metadata": {
        "id": "view-in-github",
        "colab_type": "text"
      },
      "source": [
        "<a href=\"https://colab.research.google.com/github/bradykuo/Numerical-Optimization/blob/main/curve_fitting_comparison.ipynb\" target=\"_parent\"><img src=\"https://colab.research.google.com/assets/colab-badge.svg\" alt=\"Open In Colab\"/></a>"
      ]
    },
    {
      "cell_type": "code",
      "execution_count": null,
      "id": "18386b3f",
      "metadata": {
        "id": "18386b3f"
      },
      "outputs": [],
      "source": [
        "from gurobipy import*\n",
        "import numpy as np\n",
        "import matplotlib.pyplot as plt"
      ]
    },
    {
      "cell_type": "code",
      "execution_count": null,
      "id": "b45abf7b",
      "metadata": {
        "id": "b45abf7b"
      },
      "outputs": [],
      "source": [
        "I, X, Y = multidict({1:[4,102.56], 2:[4.2,113.18], 3:[4.5,130.11], 4:[4.7,142.05], 5:[5.1, 167.53],\n",
        "                     6:[5.5, 195.14], 7:[5.9,224.87],8:[6.3,256.73], 9:[6.8, 299.5], 10:[7.1,626.72]})"
      ]
    },
    {
      "cell_type": "code",
      "execution_count": null,
      "id": "f71bd290",
      "metadata": {
        "id": "f71bd290",
        "outputId": "d02b8bbf-813d-4c18-b050-16254bf15c55"
      },
      "outputs": [
        {
          "name": "stdout",
          "output_type": "stream",
          "text": [
            "Gurobi Optimizer version 9.5.2 build v9.5.2rc0 (mac64[rosetta2])\n",
            "Thread count: 8 physical cores, 8 logical processors, using up to 8 threads\n",
            "Optimize a model with 10 rows, 23 columns and 50 nonzeros\n",
            "Model fingerprint: 0xb8022add\n",
            "Coefficient statistics:\n",
            "  Matrix range     [1e+00, 5e+01]\n",
            "  Objective range  [1e+00, 1e+00]\n",
            "  Bounds range     [0e+00, 0e+00]\n",
            "  RHS range        [1e+02, 6e+02]\n",
            "Presolve time: 0.01s\n",
            "Presolved: 10 rows, 23 columns, 50 nonzeros\n",
            "\n",
            "Iteration    Objective       Primal Inf.    Dual Inf.      Time\n",
            "       0      handle free variables                          0s\n",
            "      10    2.9995832e+02   0.000000e+00   0.000000e+00      0s\n",
            "\n",
            "Solved in 10 iterations and 0.01 seconds (0.00 work units)\n",
            "Optimal objective  2.999583242e+02\n",
            "alpha 1:  1.7409615384623862\n",
            "alpha 2:  -1.349587912088238\n",
            "alpha 3:  6.638736263736296\n"
          ]
        }
      ],
      "source": [
        "model1 = Model(\"Data fitting 1\")\n",
        "a = {}\n",
        "Fx = {}\n",
        "t = {}\n",
        "s = {}\n",
        "for i in range(1,4):#產生alpha1,alpha2,alpha3三個變數\n",
        "    a[i]= model1.addVar(lb = -GRB.INFINITY,name=\"a[%s]\" % i)\n",
        "model1.update()\n",
        "for i in I:#產生ti,si兩個變數\n",
        "    t[i] = model1.addVar(name=\"t[%s]\" % i)\n",
        "    s[i] = model1.addVar(name=\"s[%s]\" % i)\n",
        "model1.update()\n",
        "for i in I:#增加限制式\n",
        "    Fx[i] = a[3]*X[i]**2 + a[2]*X[i] + a[1]\n",
        "    model1.addConstr(Y[i]-Fx[i]==t[i]-s[i])\n",
        "\n",
        "model1.setObjective(quicksum(t[i]+s[i] for i in I),GRB.MINIMIZE)\n",
        "model1.optimize()\n",
        "for i in range(1,4):\n",
        "    print(\"alpha %s: \"%i,a[i].X)"
      ]
    },
    {
      "cell_type": "code",
      "execution_count": null,
      "id": "434ef00a",
      "metadata": {
        "id": "434ef00a",
        "outputId": "66516057-cdba-4fae-e22c-c7f9ea2537d3"
      },
      "outputs": [
        {
          "name": "stdout",
          "output_type": "stream",
          "text": [
            "A = \n",
            " [[ 1.    4.   16.  ]\n",
            " [ 1.    4.2  17.64]\n",
            " [ 1.    4.5  20.25]\n",
            " [ 1.    4.7  22.09]\n",
            " [ 1.    5.1  26.01]\n",
            " [ 1.    5.5  30.25]\n",
            " [ 1.    5.9  34.81]\n",
            " [ 1.    6.3  39.69]\n",
            " [ 1.    6.8  46.24]\n",
            " [ 1.    7.1  50.41]]\n",
            "B = \n",
            " [[102.56]\n",
            " [113.18]\n",
            " [130.11]\n",
            " [142.05]\n",
            " [167.53]\n",
            " [195.14]\n",
            " [224.87]\n",
            " [256.73]\n",
            " [299.5 ]\n",
            " [626.72]]\n"
          ]
        },
        {
          "data": {
            "text/plain": [
              "array([[1392.44636506],\n",
              "       [-559.99464805],\n",
              "       [  61.40491384]])"
            ]
          },
          "execution_count": 208,
          "metadata": {},
          "output_type": "execute_result"
        }
      ],
      "source": [
        "A = np.array([1, X[1], X[1]**2])#建立A的第一列\n",
        "B = np.array([Y[1]])#建立B的第一列\n",
        "for i in range (2,11):#使用np.append()將2～10列的值放入array(此時為1維array)\n",
        "    a1 = np.array([1, X[i], X[i]**2]) #使用a1避免a將前面的a = {}覆蓋掉\n",
        "    b = np.array([Y[i]])\n",
        "    A = np.append(A,a1)\n",
        "    B = np.append(B,b)\n",
        "A = A.reshape((10,3))#使用reshape()將A的形狀轉變為10x3\n",
        "B = B.reshape(10,1)#使用reshape()將A的形狀轉變為10x1\n",
        "print(\"A = \\n\" ,A)\n",
        "print(\"B = \\n\",B)\n",
        "At = np.transpose(A)\n",
        "# compute the vector\n",
        "np.matmul(np.matmul(np.linalg.inv(np.matmul(At, A)),At),B)#進行(AtA)-1Atb的運算"
      ]
    },
    {
      "cell_type": "markdown",
      "id": "f58f85dc",
      "metadata": {
        "id": "f58f85dc"
      },
      "source": []
    },
    {
      "cell_type": "code",
      "execution_count": null,
      "id": "2f83fa3b",
      "metadata": {
        "id": "2f83fa3b",
        "outputId": "5b103708-72bf-4eaa-f50b-46cd0baaf536"
      },
      "outputs": [
        {
          "data": {
            "text/plain": [
              "<matplotlib.collections.PathCollection at 0x7fddd885b670>"
            ]
          },
          "execution_count": 192,
          "metadata": {},
          "output_type": "execute_result"
        },
        {
          "data": {
            "image/png": "[encoded data removed]",
            "text/plain": [
              "<Figure size 432x288 with 1 Axes>"
            ]
          },
          "metadata": {
            "needs_background": "light"
          },
          "output_type": "display_data"
        }
      ],
      "source": [
        "#P1的圖形\n",
        "x1 = np.linspace(4,7,10000)#在4~7中切出10000個點\n",
        "y1 = a[3].X*x1**2 + a[2].X*x1 + a[1].X #將P1求出的alpha帶回f(x)\n",
        "plt.plot(x1,y1)#繪製最佳解圖形\n",
        "plt.scatter(xi,yi)#繪製data points"
      ]
    },
    {
      "cell_type": "code",
      "execution_count": null,
      "id": "89e3d745",
      "metadata": {
        "id": "89e3d745",
        "outputId": "86d7570f-3f4b-4267-fd7e-6ba618d78046"
      },
      "outputs": [
        {
          "data": {
            "text/plain": [
              "<matplotlib.collections.PathCollection at 0x7fdde8dbcdc0>"
            ]
          },
          "execution_count": 193,
          "metadata": {},
          "output_type": "execute_result"
        },
        {
          "data": {
            "image/png": "[encoded data removed]",
            "text/plain": [
              "<Figure size 432x288 with 1 Axes>"
            ]
          },
          "metadata": {
            "needs_background": "light"
          },
          "output_type": "display_data"
        }
      ],
      "source": [
        "#印出P2的圖形\n",
        "x2 = np.linspace(4,7,10000)#在4~7中切出10000個點\n",
        "y2 = 61.40491384*x2**2 - 559.99464805*x2 + 1392.44636506#將P2求出的alpha帶回f(x)\n",
        "plt.plot(x2,y2)#繪製最佳解圖形\n",
        "plt.scatter(xi,yi)#繪製data points"
      ]
    },
    {
      "cell_type": "code",
      "execution_count": null,
      "id": "572b1f61",
      "metadata": {
        "id": "572b1f61"
      },
      "outputs": [],
      "source": []
    }
  ],
  "metadata": {
    "kernelspec": {
      "display_name": "Python 3 (ipykernel)",
      "language": "python",
      "name": "python3"
    },
    "language_info": {
      "codemirror_mode": {
        "name": "ipython",
        "version": 3
      },
      "file_extension": ".py",
      "mimetype": "text/x-python",
      "name": "python",
      "nbconvert_exporter": "python",
      "pygments_lexer": "ipython3",
      "version": "3.9.12"
    },
    "colab": {
      "provenance": [],
      "include_colab_link": true
    }
  },
  "nbformat": 4,
  "nbformat_minor": 5
}