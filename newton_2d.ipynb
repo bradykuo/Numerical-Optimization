{
 "cells": [
  {
   "cell_type": "code",
   "execution_count": 2,
   "id": "6d50f0dd",
   "metadata": {},
   "outputs": [],
   "source": [
    "import numpy as np"
   ]
  },
  {
   "cell_type": "code",
   "execution_count": 3,
   "id": "9b32feef",
   "metadata": {},
   "outputs": [],
   "source": [
    "def functionValue(x):\n",
    "    f=[]\n",
    "    f.append([np.sin(4*np.pi*x[0,0]*x[1,0])-x[0,0]-2*x[1,0]])\n",
    "    f.append([(4*np.pi-1)/(4*np.pi)*(np.exp(2*x[0,0])-np.exp(1)) + 4*np.exp(1)*x[1,0]**2- 2 *np.exp(1)*x[0,0]])\n",
    "    f = np.array(f)\n",
    "    return f"
   ]
  },
  {
   "cell_type": "code",
   "execution_count": 4,
   "id": "297940aa",
   "metadata": {},
   "outputs": [],
   "source": [
    "def functionJacobian(x):\n",
    "    Df = []\n",
    "    Df.append([-4 * np.pi * x[1,0] * np.cos(4 * np.pi * x[0,0] * x[1,0]) - 1,-4 * np.pi * x[0,0]* np.cos(4 * np.pi * x[0,0] * x[1,0]) - 2])\n",
    "    Df.append([((4*np.pi - 1) * np.exp(2 * x[0,0])/2 * np.pi) - 2 * np.exp(1) , 8 * np.exp(1) * x[1,0]])\n",
    "    Df = np.array(Df)\n",
    "    return Df"
   ]
  },
  {
   "cell_type": "code",
   "execution_count": 6,
   "id": "4369c6ec",
   "metadata": {},
   "outputs": [
    {
     "name": "stdout",
     "output_type": "stream",
     "text": [
      "Initial x1,x2\n",
      "[[0]\n",
      " [0]]\n",
      "\n",
      "k=0\n",
      "[[ 0.12421961]\n",
      " [-0.06210981]]\n",
      "k=1\n",
      "[[ 0.23115913]\n",
      " [-0.09606543]]\n"
     ]
    }
   ],
   "source": [
    "#y = -np.linalg.inv(functionJacobian(x)).dot(functionValue(x))\n",
    "#x = x + y\n",
    "\n",
    "x=[[0],[0]]\n",
    "x = np.array(x)\n",
    "print(\"Initial x1,x2\")\n",
    "print(x)\n",
    "print()\n",
    "\n",
    "for i in range(2):\n",
    "    print(\"k=%d\" % i)\n",
    "\n",
    "    Dx = -np.linalg.inv(functionJacobian(x)).dot(functionValue(x))\n",
    "    x = x + Dx\n",
    "    print(x)\n"
   ]
  },
  {
   "cell_type": "code",
   "execution_count": null,
   "id": "14a60188",
   "metadata": {},
   "outputs": [],
   "source": []
  }
 ],
 "metadata": {
  "kernelspec": {
   "display_name": "Python 3",
   "language": "python",
   "name": "python3"
  },
  "language_info": {
   "codemirror_mode": {
    "name": "ipython",
    "version": 3
   },
   "file_extension": ".py",
   "mimetype": "text/x-python",
   "name": "python",
   "nbconvert_exporter": "python",
   "pygments_lexer": "ipython3",
   "version": "3.8.8"
  }
 },
 "nbformat": 4,
 "nbformat_minor": 5
}
