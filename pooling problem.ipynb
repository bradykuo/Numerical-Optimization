{
 "cells": [
  {
   "cell_type": "code",
   "execution_count": 6,
   "id": "5b48e9a5",
   "metadata": {},
   "outputs": [],
   "source": [
    "import gurobipy as gp"
   ]
  },
  {
   "cell_type": "code",
   "execution_count": 7,
   "id": "548dd5b9",
   "metadata": {},
   "outputs": [],
   "source": [
    "source, content = gp.multidict({\"A\":3,\"B\":1,\"C\":2})\n",
    "output, max_content, demand = gp.multidict({\"X\":[2.5,100],\"Y\":[1.5,200]})\n",
    "pool = [\"P\"]\n",
    "connections = gp.tuplelist([(\"A\",\"P\"),(\"B\",\"P\"),(\"P\",\"X\"),(\"P\",\"Y\"),(\"C\",\"X\"),(\"C\",\"Y\")])\n",
    "flowCost = 1.5"
   ]
  },
  {
   "cell_type": "code",
   "execution_count": 8,
   "id": "ebdca392",
   "metadata": {},
   "outputs": [
    {
     "name": "stdout",
     "output_type": "stream",
     "text": [
      "Set parameter NonConvex to value 2\n",
      "Gurobi Optimizer version 9.5.2 build v9.5.2rc0 (win64)\n",
      "Thread count: 4 physical cores, 8 logical processors, using up to 8 threads\n",
      "Optimize a model with 5 rows, 9 columns and 10 nonzeros\n",
      "Model fingerprint: 0xa21de2ac\n",
      "Model has 4 quadratic constraints\n",
      "Coefficient statistics:\n",
      "  Matrix range     [1e+00, 1e+00]\n",
      "  QMatrix range    [1e+00, 1e+00]\n",
      "  QLMatrix range   [1e+00, 3e+00]\n",
      "  Objective range  [2e+00, 2e+00]\n",
      "  Bounds range     [0e+00, 0e+00]\n",
      "  RHS range        [2e+00, 2e+02]\n",
      "Presolve removed 2 rows and 0 columns\n",
      "\n",
      "Continuous model is non-convex -- solving as a MIP\n",
      "\n",
      "Presolve removed 2 rows and 0 columns\n",
      "Presolve time: 0.00s\n",
      "Presolved: 39 rows, 18 columns, 80 nonzeros\n",
      "Presolved model has 8 bilinear constraint(s)\n",
      "Variable types: 18 continuous, 0 integer (0 binary)\n",
      "\n",
      "Root relaxation: objective 5.250000e+02, 13 iterations, 0.00 seconds (0.00 work units)\n",
      "\n",
      "    Nodes    |    Current Node    |     Objective Bounds      |     Work\n",
      " Expl Unexpl |  Obj  Depth IntInf | Incumbent    BestBd   Gap | It/Node Time\n",
      "\n",
      "     0     0  525.00000    0    5          -  525.00000      -     -    0s\n",
      "H    0     0                     600.0000000  525.00000  12.5%     -    0s\n",
      "     0     0  525.00000    0    4  600.00000  525.00000  12.5%     -    0s\n",
      "     0     0  600.00000    0    2  600.00000  600.00000  0.00%     -    1s\n",
      "\n",
      "Cutting planes:\n",
      "  RLT: 2\n",
      "\n",
      "Explored 1 nodes (31 simplex iterations) in 1.68 seconds (0.00 work units)\n",
      "Thread count was 8 (of 8 available processors)\n",
      "\n",
      "Solution count 1: 600 \n",
      "\n",
      "Optimal solution found (tolerance 1.00e-04)\n",
      "Best objective 6.000000000083e+02, best bound 5.999999996231e+02, gap 0.0000%\n"
     ]
    }
   ],
   "source": [
    "model = gp.Model(\"pool\")\n",
    "model.params.nonConvex = 2\n",
    "flow = {}\n",
    "concentration = {}\n",
    "for c in connections:\n",
    "    flow[c] = model.addVar(name = \"[%s->%s]\" % (c[0],c[1]))\n",
    "for p in pool:\n",
    "    concentration[p] = model.addVar(name = \"Concentration[%s]\" % p)\n",
    "    left = []\n",
    "    right = []\n",
    "    for c in connections:\n",
    "        if p in c and c.index(p) == 1:\n",
    "            left.append(c)\n",
    "        elif p in c and c.index(p) == 0:\n",
    "            right.append(c)\n",
    "    model.addConstr(sum(flow[i] for i in left) == sum(flow[i] for i in right),name = \"flowBalance\")\n",
    "    model.addConstr(sum(flow[i] * content[i[0]] for i in left) == concentration[p] * (sum(flow[i] for i in left)))\n",
    "    model.addConstr(sum(flow[i] * content[i[0]] for i in left) == concentration[p] * (sum(flow[i] for i in right)))\n",
    "for o in output:\n",
    "    concentration[o] = model.addVar(name = \"Concentration[%s]\" % o)\n",
    "    receive = []\n",
    "    flowAmount = 0\n",
    "    contentAmount = 0\n",
    "    for c in connections:\n",
    "        if o in c and c.index(o) == 1:\n",
    "            receive.append(c)\n",
    "    model.addConstr(sum(flow[i] for i in receive) >= demand[o],name = o + \"capacity\")\n",
    "    for r in receive:\n",
    "        if r[0] in source:\n",
    "            contentAmount += content[r[0]]*flow[r]\n",
    "            flowAmount += flow[r]\n",
    "        elif r[0] in pool:\n",
    "            contentAmount += concentration[r[0]]*flow[r]\n",
    "            flowAmount += flow[r]\n",
    "    model.addConstr(contentAmount == concentration[o]*flowAmount)\n",
    "    model.addConstr(concentration[o] <= max_content[o])\n",
    "model.setObjective(sum(flow[i]*flowCost for i in flow),gp.GRB.MINIMIZE)\n",
    "model.optimize()"
   ]
  },
  {
   "cell_type": "code",
   "execution_count": 9,
   "id": "b5531465",
   "metadata": {},
   "outputs": [
    {
     "name": "stdout",
     "output_type": "stream",
     "text": [
      "price =  600.0000000082532\n",
      "[B->P] 100.00000000311789\n",
      "[P->Y] 100.00000000256769\n",
      "[C->X] 100.00000000000001\n",
      "[C->Y] 99.99999999816593\n"
     ]
    }
   ],
   "source": [
    "print(\"price = \",model.ObjVal)\n",
    "for i in flow:\n",
    "    if flow[i].X > 1e-6:\n",
    "        print(flow[i].varName,flow[i].X)   "
   ]
  }
 ],
 "metadata": {
  "kernelspec": {
   "display_name": "Python 3 (ipykernel)",
   "language": "python",
   "name": "python3"
  },
  "language_info": {
   "codemirror_mode": {
    "name": "ipython",
    "version": 3
   },
   "file_extension": ".py",
   "mimetype": "text/x-python",
   "name": "python",
   "nbconvert_exporter": "python",
   "pygments_lexer": "ipython3",
   "version": "3.9.12"
  }
 },
 "nbformat": 4,
 "nbformat_minor": 5
}
