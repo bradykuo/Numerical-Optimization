{
  "cells": [
    {
      "cell_type": "markdown",
      "metadata": {
        "id": "view-in-github",
        "colab_type": "text"
      },
      "source": [
        "<a href=\"https://colab.research.google.com/github/bradykuo/Numerical-Optimization/blob/main/artificial_neural_network.ipynb\" target=\"_parent\"><img src=\"https://colab.research.google.com/assets/colab-badge.svg\" alt=\"Open In Colab\"/></a>"
      ]
    },
    {
      "cell_type": "code",
      "execution_count": null,
      "id": "e1350355",
      "metadata": {
        "id": "e1350355"
      },
      "outputs": [],
      "source": [
        "import random\n",
        "import numpy as np"
      ]
    },
    {
      "cell_type": "code",
      "execution_count": null,
      "id": "c2a7b150",
      "metadata": {
        "id": "c2a7b150",
        "outputId": "4ffd5665-93fd-483e-bd45-6b7f849db611"
      },
      "outputs": [
        {
          "data": {
            "text/plain": [
              "0.5714025946899135"
            ]
          },
          "execution_count": 79,
          "metadata": {},
          "output_type": "execute_result"
        }
      ],
      "source": [
        "random.seed(10)\n",
        "random.random()\n",
        "# teamnumber = 7\n",
        "# N = 100"
      ]
    },
    {
      "cell_type": "code",
      "execution_count": null,
      "id": "277e4dbb",
      "metadata": {
        "id": "277e4dbb",
        "outputId": "371321e1-fb73-4f5b-e1c2-8ca80c9a056f"
      },
      "outputs": [
        {
          "name": "stdout",
          "output_type": "stream",
          "text": [
            "[[0.32383276483316237, 0.15084917392450192, 0.6509344730398537], [0.07243628666754276, 0.5358820043066892, 0.36568891691258554], [0.057998924774706806, 0.5074357331894203, 0.03749565844198488], [0.4336456836623859, 0.06985542357461894, 0.09071301334386506], [0.42451918914251396, 0.8268521246720381, 0.12380196114964559], [0.22323896460701453, 0.6274332224055893, 0.9477089424570057], [0.5771029486174987, 0.39668047465078016, 0.9762551055929201], [0.04658268061775628, 0.8584684590486795, 0.28960928633167626], [0.14425508335743753, 0.11779223807836836, 0.30848182410193437], [0.8161263591200314, 0.18072637992393747, 0.5816001636624663], [0.6389134689261841, 0.3723975427257312, 0.5477444657095578], [0.06278897497332314, 0.05960116996623266, 0.20595871281932654], [0.6803999731817859, 0.4275923056694029, 0.3141471703767915], [0.5855618635076387, 0.45318437637077535, 0.29976699686368236], [0.7943794815224912, 0.6989944337295713, 0.24409651072215288], [0.574423710258671, 0.5251965038114514, 0.8751374955734289], [0.7294452894392176, 0.2879377648901865, 0.9801748474925821], [0.11806577825496212, 0.4181228217852272, 0.7571409295652494], [0.15198453466050477, 0.4889631004758056, 0.03920725704743766], [0.6682158565343952, 0.7645708662128131, 0.573025940277384], [0.8754778118308882, 0.31374751284809677, 0.6952953662736593], [0.5943698771050184, 0.5798952042824922, 0.45620533130141305], [0.8399677805125414, 0.9446810951079374, 0.47409833741964447], [0.6641522054746745, 0.060669427597219716, 0.7014920213044239], [0.6471288545276688, 0.9930959394666341, 0.8219247866097149], [0.28459553209414923, 0.3857914424467108, 0.6686527158841882], [0.02256292805558857, 0.46169528629976586, 0.16804837890654456], [0.11709579448173191, 0.058954419331310404, 0.7682329884725208], [0.12934022201868423, 0.24761483369691428, 0.3909497031332271], [0.8714219741262994, 0.08058130120013862, 0.44918740094933096], [0.5494399091440374, 0.8833838264415125, 0.8192798378357413], [0.8639844696985152, 0.27842106451389714, 0.4152965172116986], [0.3587711653316248, 0.884192827198217, 0.9577312039639913], [0.15092090579110895, 0.17621772849037032, 0.23195686681953576], [0.23333608368086112, 0.4849627303413566, 0.5891235037322556], [0.26274661929853793, 0.004093603385063926, 0.41894650112532794], [0.3692535728947254, 0.566341223706392, 0.9530979255250953], [0.6904936571359779, 0.5154914330707784, 0.6175927494091277], [0.6762000824495014, 0.053992893223790195, 0.8995330100579522], [0.7799694907060728, 0.8745131841344765, 0.7978731211965661], [0.39237890689126864, 0.398978832320273, 0.10353709371032427], [0.634289565685709, 0.06224782161868758, 0.06734761584302484], [0.20876318544616446, 0.1623031877720974, 0.3400536522323434], [0.05257560389026694, 0.00023328190135663007, 0.15126493227942794], [0.10146436802259651, 0.363609922034571, 0.025500886666145695], [0.8743323773738196, 0.6140689877884787, 0.14855048533089144], [0.2522577565570773, 0.34738954605370154, 0.36416343952828245], [0.12284223076219491, 0.8489369264846149, 0.9931027217047139], [0.4659894591599337, 0.48383465641626944, 0.08588466155616559], [0.10218761674816845, 0.3426358382430018, 0.2647568917171801], [0.8288553781215605, 0.1614386105264315, 0.023095721045248152], [0.9509855728747021, 0.5282573950421248, 0.1466025388990907], [0.5431724258821143, 0.027042491422168524, 0.5281094409383065], [0.9785012427189728, 0.8633250302896689, 0.6961967859078019], [0.26111519722936194, 0.36669979176117884, 0.1670420345343363], [0.7719379084020312, 0.532592397492879, 0.7790548913381772], [0.32966499504776237, 0.22304167310318512, 0.811511246773595], [0.9849260505908908, 0.8526287987466605, 0.8060785847856675], [0.8183329433253732, 0.7398730203757141, 0.2267394900315849], [0.5176387242435055, 0.3555625433549582, 0.028980150741365396], [0.027937075422064472, 0.2794185390490298, 0.25917436326775656], [0.6925219417001234, 0.9565150763413378, 0.44722767776672345], [0.9370212012762423, 0.9880380582028602, 0.9550006313213332], [0.3646358853618661, 0.22046232299623747, 0.22684582673072795], [0.19670616341931724, 0.20437336327622302, 0.6240663974378182], [0.9003083378841142, 0.8404355272792898, 0.4794734262615382], [0.652978042841009, 0.7996437448496602, 0.08477848645038011], [0.6605856502048941, 0.909777137551723, 0.78230288409809], [0.7501404598304584, 0.47803274459400025, 0.17852171833757358], [0.7891354310202764, 0.3325171998646099, 0.800823568896691], [0.9716572889821583, 0.3958384950694481, 0.4013868178677015], [0.946797006464893, 0.7247986656342152, 0.17000365997189548], [0.12703836729786433, 0.1511507003814898, 0.9048520957332393], [0.8065019820321961, 0.14617430874387416, 0.8265104785253871], [0.9803059434470305, 0.6572682927360199, 0.3504075121575029], [0.5486600439867791, 0.1309838520094504, 0.014242938156105556], [0.9708901772377644, 0.6496746696738306, 0.5265810470990555], [0.9336248050574267, 0.4338094367574856, 0.8717429279894041], [0.8261552518152211, 0.2110423373281488, 0.2518348113654538], [0.29296665267021893, 0.24053939255833456, 0.5864371681659617], [0.25936479527021017, 0.41901255275454363, 0.13107367650348334], [0.9100170563155565, 0.3537840239532589, 0.45816098647173364], [0.58334877204185, 0.9042967745420398, 0.42062827070906517], [0.9177210843426643, 0.5016489411202315, 0.5318249624359338], [0.5235065855871663, 0.01870486790542003, 0.44012491238494333], [0.18310788727219873, 0.003932481825641987, 0.7991704504922217], [0.17234671221344888, 0.47349293246195634, 0.7251932704473779], [0.5564756249022133, 0.3259821510488641, 0.5183487127030368], [0.5554418748802469, 0.7842724753654755, 0.10610941710492827], [0.5602961335839522, 0.24849432104309, 0.27691707046478153], [0.7722610987554883, 0.5077139917923206, 0.5617293866564762], [0.7599931425900166, 0.912488036329812, 0.44324839357743884], [0.6125278843444604, 0.5055531308512217, 0.5121614724353194], [0.6927310025482292, 0.4523457922649097, 0.5332854375791709], [0.4780363180320848, 0.9415011275385007, 0.6992178821802858], [0.8765354817805934, 0.9421805883035757, 0.2595922941176907], [0.5595138064977149, 0.9432670340134838, 0.8399997833932058], [0.13713443589685148, 0.12162195438418066, 0.4421180882750436], [0.07254609965648828, 0.24063875845326987, 0.07312076697267433], [0.6694721453098957, 0.7839360171731552, 0.8970264328787668]] \n",
            "\n",
            "[[0, 1, 0], [0, 1, 0], [0, 1, 0], [0, 0, 1], [0, 1, 0], [1, 0, 0], [1, 0, 0], [0, 1, 0], [0, 0, 1], [1, 0, 0], [0, 1, 0], [0, 0, 1], [0, 1, 0], [0, 1, 0], [1, 0, 0], [1, 0, 0], [1, 0, 0], [0, 1, 0], [0, 1, 0], [1, 0, 0], [1, 0, 0], [0, 1, 0], [1, 0, 0], [0, 1, 0], [1, 0, 0], [0, 1, 0], [0, 0, 1], [0, 1, 0], [0, 0, 1], [0, 1, 0], [1, 0, 0], [0, 1, 0], [1, 0, 0], [0, 0, 1], [0, 1, 0], [0, 0, 1], [1, 0, 0], [1, 0, 0], [1, 0, 0], [1, 0, 0], [0, 1, 0], [0, 1, 0], [0, 0, 1], [0, 0, 1], [0, 0, 1], [1, 0, 0], [0, 1, 0], [1, 0, 0], [0, 1, 0], [0, 0, 1], [0, 1, 0], [1, 0, 0], [0, 1, 0], [1, 0, 0], [0, 0, 1], [1, 0, 0], [0, 1, 0], [1, 0, 0], [1, 0, 0], [0, 1, 0], [0, 0, 1], [1, 0, 0], [1, 0, 0], [0, 0, 1], [0, 1, 0], [1, 0, 0], [1, 0, 0], [1, 0, 0], [0, 1, 0], [1, 0, 0], [1, 0, 0], [1, 0, 0], [0, 1, 0], [1, 0, 0], [1, 0, 0], [0, 1, 0], [1, 0, 0], [1, 0, 0], [0, 1, 0], [0, 1, 0], [0, 1, 0], [1, 0, 0], [1, 0, 0], [1, 0, 0], [0, 1, 0], [0, 1, 0], [0, 1, 0], [0, 1, 0], [0, 1, 0], [0, 1, 0], [1, 0, 0], [1, 0, 0], [0, 1, 0], [0, 1, 0], [1, 0, 0], [1, 0, 0], [1, 0, 0], [0, 0, 1], [0, 0, 1], [1, 0, 0]]\n"
          ]
        }
      ],
      "source": [
        "import random\n",
        "teamnumber = 7\n",
        "random.seed(teamnumber)\n",
        "dataPointSet = []\n",
        "dataPointLabel = []\n",
        "N = 100\n",
        "M = 3\n",
        "\n",
        "# x1,x2,x3\n",
        "while len(dataPointSet) < N:\n",
        "    dataPointSet.append([])\n",
        "    for j in range(M):\n",
        "        dataPointSet[-1].append(random.random())\n",
        "\n",
        "    x = dataPointSet[-1]\n",
        "    if np.linalg.norm(x)==1 or np.linalg.norm(x)==1/2 or np.linalg.norm(x)==0:\n",
        "        dataPointSet.remove(x)\n",
        "    elif np.linalg.norm(x)>1:\n",
        "        dataPointLabel.append([1,0,0])\n",
        "    elif np.linalg.norm(x)<1 and np.linalg.norm(x)>1/2:\n",
        "        dataPointLabel.append([0,1,0])\n",
        "    else:\n",
        "        dataPointLabel.append([0,0,1])\n",
        "\n",
        "print(dataPointSet,\"\\n\")\n",
        "print(dataPointLabel)"
      ]
    },
    {
      "cell_type": "code",
      "execution_count": null,
      "id": "a0d6cb93",
      "metadata": {
        "id": "a0d6cb93",
        "outputId": "e8cdc2d7-c636-4d2c-910f-90751c75fa47"
      },
      "outputs": [
        {
          "name": "stdout",
          "output_type": "stream",
          "text": [
            "26.824059386917106\n",
            "-104.17551889000296\n",
            "35.99495499198475\n",
            "-55.679837207615506\n",
            "35.77141525626104\n",
            "-14.779503099582442\n",
            "-161.26297733923315\n",
            "-26.159049001345924\n",
            "-88.09632349888672\n",
            "108.42166702957634\n",
            "94.55266165492624\n",
            "159.76804616856492\n",
            "[110.04685115277823, 108.12410862704003, 104.3950435669039, 99.15148380038943, 92.92442721848519, 86.45683816139268, 80.53509401002962, 75.76753928944605, 72.45708895481499, 70.61651802880726, 70.06647407403666, 70.5262284846664, 71.64058157923301, 72.94840447552097, 73.851654622028, 73.66021300046623, 71.76957869866108, 68.02643411018364, 63.235400965906855, 59.15007796157614, 57.224476527162274, 57.555447372796586, 59.326498475778955, 61.585617271964935, 63.58296374389368, 64.82636565522657, 65.05042244093407, 64.2190073289169, 62.6735826591341, 61.49990114899207, 62.52295835347389, 65.99108456886253, 69.1426124932588, 70.0365965227025, 68.86399729369644, 66.22342820259676, 63.49938846837829, 64.87205005022443, 68.88159805979821, 71.39000103136922, 71.6682572481469, 70.61451694949109, 68.21294265357646, 64.38158221085573, 66.71566082332454, 72.11462597746133, 74.84079445124101, 73.43506213218944, 66.58131693534995, 64.83785404260715, 71.712897055113, 76.55900378808035, 76.20716462063162, 72.27488794121398, 66.3910225006599, 69.0076980315137, 75.87298675624008, 76.23696190820056, 74.19000839309163, 67.15023486980922, 68.80698530413902, 75.27742133471239, 79.098333640854, 77.05499767090382, 67.55947940938425, 66.67785268199627, 78.4078875421058, 76.8904656319335, 71.97267685144799, 65.97877108359876, 74.12437203202867, 75.99385645041751, 77.12222975935359, 69.39151043916411, 68.36087234298259, 78.4879692139469, 78.23492044366418, 67.89910142746767, 72.7811659756746, 80.30993161967453, 79.94858310252512, 78.30034000050841, 68.93311543865282, 78.61913895109822, 82.08678594025542, 86.95890076600745, 85.70454617016887, 80.5383998802398, 71.31847066395045, 80.26864691073818, 87.96132532392417, 89.64854132094084, 94.27963892327925, 92.79271193595184, 91.8234083069262, 93.38502005429552, 90.65497210435429, 81.43497851589238, 68.56868574976431, 83.00021390351498]\n"
          ]
        }
      ],
      "source": [
        "random.seed(2022)\n",
        "w1=[[],[],[],[],0.53162575,0.06078985]\n",
        "w2=[[],[],[],[],0.44260596,0.78362533]\n",
        "w3=[[],[],[],[],0.31005357,0.98202775]\n",
        "w4=[[],[],[],[],[],[],0.41236764,0.81087921,0.76100064]\n",
        "w5=[[],[],[],[],[],[],0.63404358,0.86108239,0.30859988]\n",
        "\n",
        "x = [[],0,0,0,0,0]\n",
        "y = [[],0,0,0]\n",
        "s = []\n",
        "t = []\n",
        "alpha = 0.001\n",
        "\n",
        "dR_dW14 = 0\n",
        "dR_dW15 = 0\n",
        "dR_dW24 = 0\n",
        "dR_dW25 = 0\n",
        "dR_dW34 = 0\n",
        "dR_dW35 = 0\n",
        "dR_dW46 = 0\n",
        "dR_dW47 = 0\n",
        "dR_dW48 = 0\n",
        "dR_dW56 = 0\n",
        "dR_dW57 = 0\n",
        "dR_dW58 = 0\n",
        "\n",
        "for j in range(100):\n",
        "    w1[4] = w1[4]-alpha*dR_dW14\n",
        "    w1[5] = w1[5]-alpha*dR_dW15\n",
        "    w2[4] = w2[4]-alpha*dR_dW24\n",
        "    w2[5] = w2[5]-alpha*dR_dW25\n",
        "    w3[4] = w3[4]-alpha*dR_dW34\n",
        "    w3[5] = w3[5]-alpha*dR_dW35\n",
        "    w4[6] = w4[6]-alpha*dR_dW46\n",
        "    w4[7] = w4[7]-alpha*dR_dW47\n",
        "    w4[8] = w4[8]-alpha*dR_dW48\n",
        "    w5[6] = w5[6]-alpha*dR_dW56\n",
        "    w5[7] = w5[7]-alpha*dR_dW57\n",
        "    w5[8] = w5[8]-alpha*dR_dW58\n",
        "    R=0\n",
        "    s.append(j)\n",
        "    for i in range(100):\n",
        "        z = [[],dataPointLabel[i][0],dataPointLabel[i][1],dataPointLabel[i][2]]\n",
        "        x[1]=dataPointSet[i][0]\n",
        "        x[2]=dataPointSet[i][1]\n",
        "        x[3]=dataPointSet[i][2]\n",
        "        x[4]=0\n",
        "        x[5]=0\n",
        "        x[4]=w1[4]*x[1]+w2[4]*x[2]+w3[4]*x[3]\n",
        "        x[5]=w1[5]*x[1]+w2[5]*x[2]+w3[5]*x[3]\n",
        "\n",
        "        y[1]=0\n",
        "        y[2]=0\n",
        "        y[3]=0\n",
        "        y[1]=w4[6]*x[4]+w5[6]*x[5]\n",
        "        y[2]=w4[7]*x[4]+w5[7]*x[5]\n",
        "        y[3]=w4[8]*x[4]+w5[8]*x[5]\n",
        "\n",
        "        def functionSig1(x):\n",
        "            return 1/(1+np.exp(-x))\n",
        "\n",
        "        F = [[],0,0,0]\n",
        "\n",
        "        F[1]=functionSig1(y[1])\n",
        "        F[2]=functionSig1(y[2])\n",
        "        F[3]=functionSig1(y[3])\n",
        "\n",
        "        R = R+(F[1]-z[1])**2+(F[2]-z[2])**2+(F[3]-z[3])**2\n",
        "\n",
        "        def functionSig2(x):\n",
        "            return (np.exp(-x))/(1+np.exp(-x))**2\n",
        "\n",
        "        dF_dW14 = [[],functionSig2(y[1])*w4[6]*x[1],functionSig2(y[2])*w4[7]*x[1],functionSig2(y[3])*w4[8]*x[1]]\n",
        "        dF_dW15 = [[],functionSig2(y[1])*w5[6]*x[1],functionSig2(y[2])*w5[7]*x[1],functionSig2(y[3])*w5[8]*x[1]]\n",
        "        dF_dW24 = [[],functionSig2(y[1])*w4[6]*x[2],functionSig2(y[2])*w4[7]*x[2],functionSig2(y[3])*w4[8]*x[2]]\n",
        "        dF_dW25 = [[],functionSig2(y[1])*w5[6]*x[2],functionSig2(y[2])*w5[7]*x[2],functionSig2(y[3])*w5[8]*x[2]]\n",
        "        dF_dW34 = [[],functionSig2(y[1])*w4[6]*x[3],functionSig2(y[2])*w4[7]*x[3],functionSig2(y[3])*w4[8]*x[3]]\n",
        "        dF_dW35 = [[],functionSig2(y[1])*w5[6]*x[3],functionSig2(y[2])*w5[7]*x[3],functionSig2(y[3])*w5[8]*x[3]]\n",
        "        dF_dW46 = [[],functionSig2(y[1])*x[4],0,0]\n",
        "        dF_dW47 = [[],0,functionSig2(y[2])*x[4],0]\n",
        "        dF_dW48 = [[],0,0,functionSig2(y[3])*x[4]]\n",
        "        dF_dW56 = [[],functionSig2(y[1])*x[5],0,0]\n",
        "        dF_dW57 = [[],0,functionSig2(y[2])*x[5],0]\n",
        "        dF_dW58 = [[],0,0,functionSig2(y[3])*x[5]]\n",
        "        dR_dW14 = dR_dW14+2*(F[1]-z[1])*dF_dW14[1]+2*(F[2]-z[2])*dF_dW14[2]+2*(F[3]-z[3])*dF_dW14[3]\n",
        "        dR_dW15 = dR_dW15+2*(F[1]-z[1])*dF_dW15[1]+2*(F[2]-z[2])*dF_dW15[2]+2*(F[3]-z[3])*dF_dW15[3]\n",
        "        dR_dW24 = dR_dW24+2*(F[1]-z[1])*dF_dW24[1]+2*(F[2]-z[2])*dF_dW24[2]+2*(F[3]-z[3])*dF_dW24[3]\n",
        "        dR_dW25 = dR_dW25+2*(F[1]-z[1])*dF_dW25[1]+2*(F[2]-z[2])*dF_dW25[2]+2*(F[3]-z[3])*dF_dW25[3]\n",
        "        dR_dW34 = dR_dW34+2*(F[1]-z[1])*dF_dW34[1]+2*(F[2]-z[2])*dF_dW34[2]+2*(F[3]-z[3])*dF_dW34[3]\n",
        "        dR_dW35 = dR_dW35+2*(F[1]-z[1])*dF_dW35[1]+2*(F[2]-z[2])*dF_dW35[2]+2*(F[3]-z[3])*dF_dW35[3]\n",
        "        dR_dW46 = dR_dW46+2*(F[1]-z[1])*dF_dW46[1]+2*(F[2]-z[2])*dF_dW46[2]+2*(F[3]-z[3])*dF_dW46[3]\n",
        "        dR_dW47 = dR_dW47+2*(F[1]-z[1])*dF_dW47[1]+2*(F[2]-z[2])*dF_dW47[2]+2*(F[3]-z[3])*dF_dW47[3]\n",
        "        dR_dW48 = dR_dW48+2*(F[1]-z[1])*dF_dW48[1]+2*(F[2]-z[2])*dF_dW48[2]+2*(F[3]-z[3])*dF_dW48[3]\n",
        "        dR_dW56 = dR_dW56+2*(F[1]-z[1])*dF_dW56[1]+2*(F[2]-z[2])*dF_dW56[2]+2*(F[3]-z[3])*dF_dW56[3]\n",
        "        dR_dW57 = dR_dW57+2*(F[1]-z[1])*dF_dW57[1]+2*(F[2]-z[2])*dF_dW57[2]+2*(F[3]-z[3])*dF_dW57[3]\n",
        "        dR_dW58 = dR_dW58+2*(F[1]-z[1])*dF_dW58[1]+2*(F[2]-z[2])*dF_dW58[2]+2*(F[3]-z[3])*dF_dW58[3]\n",
        "\n",
        "    t.append(R)\n",
        "\n",
        "print(dR_dW14)\n",
        "print(dR_dW15)\n",
        "print(dR_dW24)\n",
        "print(dR_dW25)\n",
        "print(dR_dW34)\n",
        "print(dR_dW35)\n",
        "print(dR_dW46)\n",
        "print(dR_dW47)\n",
        "print(dR_dW48)\n",
        "print(dR_dW56)\n",
        "print(dR_dW57)\n",
        "print(dR_dW58)\n",
        "print(t)"
      ]
    },
    {
      "cell_type": "code",
      "execution_count": null,
      "id": "001197b5",
      "metadata": {
        "id": "001197b5",
        "outputId": "94c0a7d0-d9c3-417d-812a-efa041ac9c84"
      },
      "outputs": [
        {
          "name": "stdout",
          "output_type": "stream",
          "text": [
            "-8.356320649774565\n",
            "3.8265108544047703\n",
            "-7.016459434064799\n",
            "3.8159103351200936\n",
            "-6.140494626425686\n",
            "3.2432877000120643\n",
            "-0.7416996272332204\n",
            "-3.2401178161318747\n",
            "7.387371989489967\n",
            "-1.8709642219366245\n",
            "-6.484357887623958\n",
            "-14.961870351879254\n"
          ]
        }
      ],
      "source": [
        "print(w1[4])\n",
        "print(w1[5])\n",
        "print(w2[4])\n",
        "print(w2[5])\n",
        "print(w3[4])\n",
        "print(w3[5])\n",
        "print(w4[6])\n",
        "print(w4[7])\n",
        "print(w4[8])\n",
        "print(w5[6])\n",
        "print(w5[7])\n",
        "print(w5[8])"
      ]
    },
    {
      "cell_type": "code",
      "execution_count": null,
      "id": "499ad38e",
      "metadata": {
        "id": "499ad38e",
        "outputId": "5cd14c70-f16e-41cc-bc9c-95a611e735c0"
      },
      "outputs": [
        {
          "name": "stdout",
          "output_type": "stream",
          "text": [
            "0\n",
            "100\n",
            "0\n"
          ]
        }
      ],
      "source": [
        "label1=0\n",
        "label2=0\n",
        "label3=0\n",
        "\n",
        "for i in range(100):\n",
        "\n",
        "    z = [[],dataPointLabel[i][0],dataPointLabel[i][1],dataPointLabel[i][2]]\n",
        "    x[1]=dataPointSet[i][0]\n",
        "    x[2]=dataPointSet[i][1]\n",
        "    x[3]=dataPointSet[i][2]\n",
        "    x[4]=0\n",
        "    x[5]=0\n",
        "    x[4]=w1[4]*x[1]+w2[4]*x[2]+w3[4]*x[3]\n",
        "    x[5]=w1[5]*x[1]+w2[5]*x[2]+w3[5]*x[3]\n",
        "\n",
        "    y[1]=0\n",
        "    y[2]=0\n",
        "    y[3]=0\n",
        "    y[1]=w4[6]*x[4]+w5[6]*x[5]\n",
        "    y[2]=w4[7]*x[4]+w5[7]*x[5]\n",
        "    y[3]=w4[8]*x[4]+w5[8]*x[5]\n",
        "\n",
        "    def functionSig1(x):\n",
        "        return 1/(1+np.exp(-x))\n",
        "\n",
        "    F = [[],0,0,0]\n",
        "\n",
        "    F[1]=functionSig1(y[1])\n",
        "    F[2]=functionSig1(y[2])\n",
        "    F[3]=functionSig1(y[3])\n",
        "\n",
        "    if(F[1]>F[2] and F[1]>F[3]):\n",
        "        label1=label1+1\n",
        "    elif(F[2]>F[1] and F[2]>F[3]):\n",
        "        label2=label2+1\n",
        "    else:\n",
        "        label3=label3+1\n",
        "\n",
        "print(label1)\n",
        "print(label2)\n",
        "print(label3)\n"
      ]
    },
    {
      "cell_type": "code",
      "execution_count": null,
      "id": "3d32e437",
      "metadata": {
        "id": "3d32e437",
        "outputId": "25b19bd3-b764-4d9e-a6d1-8c427ad3d23f"
      },
      "outputs": [
        {
          "data": {
            "image/png": "[encoded data removed]",
            "text/plain": [
              "<Figure size 432x288 with 1 Axes>"
            ]
          },
          "metadata": {
            "needs_background": "light"
          },
          "output_type": "display_data"
        }
      ],
      "source": [
        "import matplotlib.pyplot as plt\n",
        "import pandas as pd\n",
        "\n",
        "# 加入XY資料\n",
        "plt.plot(s, t) # 放入XY資料\n",
        "plt.show()"
      ]
    },
    {
      "cell_type": "code",
      "execution_count": null,
      "id": "27b12d44",
      "metadata": {
        "id": "27b12d44"
      },
      "outputs": [],
      "source": []
    }
  ],
  "metadata": {
    "kernelspec": {
      "display_name": "Python 3 (ipykernel)",
      "language": "python",
      "name": "python3"
    },
    "language_info": {
      "codemirror_mode": {
        "name": "ipython",
        "version": 3
      },
      "file_extension": ".py",
      "mimetype": "text/x-python",
      "name": "python",
      "nbconvert_exporter": "python",
      "pygments_lexer": "ipython3",
      "version": "3.9.12"
    },
    "colab": {
      "provenance": [],
      "include_colab_link": true
    }
  },
  "nbformat": 4,
  "nbformat_minor": 5
}