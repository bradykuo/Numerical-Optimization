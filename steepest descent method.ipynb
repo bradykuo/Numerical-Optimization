{
 "cells": [
  {
   "cell_type": "code",
   "execution_count": 1,
   "id": "508f9aea",
   "metadata": {},
   "outputs": [],
   "source": [
    "import random\n",
    "import numpy as np\n",
    "import matplotlib.pyplot as plt\n",
    "import gurobipy as gp"
   ]
  },
  {
   "cell_type": "code",
   "execution_count": 2,
   "id": "cd88ace1",
   "metadata": {},
   "outputs": [],
   "source": [
    "def functionSig(x):\n",
    "    return 1/(1+np.exp(-x))"
   ]
  },
  {
   "cell_type": "code",
   "execution_count": 3,
   "id": "d7325f36",
   "metadata": {},
   "outputs": [],
   "source": [
    "def gradientSig(x):\n",
    "    return np.exp(-x)/(1+np.exp(-x))**2"
   ]
  },
  {
   "cell_type": "code",
   "execution_count": 4,
   "id": "33115520",
   "metadata": {},
   "outputs": [],
   "source": [
    "def calculateError(y1,y2,y3,counter):\n",
    "    value = (functionSig(y1)-dataPointLabel[counter][0])**2 + (functionSig(y2)-dataPointLabel[counter][1])**2 + (functionSig(y3)-dataPointLabel[counter][2])**2\n",
    "    return value"
   ]
  },
  {
   "cell_type": "code",
   "execution_count": 5,
   "id": "114935f3",
   "metadata": {},
   "outputs": [],
   "source": [
    "def gradientF(y,z):\n",
    "    return 2*(functionSig(y)-z)"
   ]
  },
  {
   "cell_type": "code",
   "execution_count": 6,
   "id": "18ed03f1",
   "metadata": {},
   "outputs": [],
   "source": [
    "def functionGradient(y1,y2,y3,w,X,counter):\n",
    "    d = [[gradientF(y1,dataPointLabel[counter][0])*gradientSig(y1)*X[1]*w[6][0]+ #W14\n",
    "          gradientF(y2,dataPointLabel[counter][1])*gradientSig(y2)*X[1]*w[8][0]+\n",
    "          gradientF(y3,dataPointLabel[counter][2])*gradientSig(y3)*X[1]*w[10][0]],\n",
    "         [gradientF(y1,dataPointLabel[counter][0])*gradientSig(y1)*X[2]*w[6][0]+ #W24\n",
    "          gradientF(y2,dataPointLabel[counter][1])*gradientSig(y2)*X[2]*w[8][0]+\n",
    "          gradientF(y3,dataPointLabel[counter][2])*gradientSig(y3)*X[2]*w[10][0]],\n",
    "         [gradientF(y1,dataPointLabel[counter][0])*gradientSig(y1)*X[3]*w[6][0]+ #W34\n",
    "          gradientF(y2,dataPointLabel[counter][1])*gradientSig(y2)*X[3]*w[8][0]+\n",
    "          gradientF(y3,dataPointLabel[counter][2])*gradientSig(y3)*X[3]*w[10][0]],\n",
    "         [gradientF(y1,dataPointLabel[counter][0])*gradientSig(y1)*X[1]*w[7][0]+ #W15\n",
    "          gradientF(y2,dataPointLabel[counter][1])*gradientSig(y2)*X[1]*w[9][0]+\n",
    "          gradientF(y3,dataPointLabel[counter][2])*gradientSig(y3)*X[1]*w[11][0]],\n",
    "         [gradientF(y1,dataPointLabel[counter][0])*gradientSig(y1)*X[2]*w[7][0]+ #W25\n",
    "          gradientF(y2,dataPointLabel[counter][1])*gradientSig(y2)*X[2]*w[9][0]+\n",
    "          gradientF(y3,dataPointLabel[counter][2])*gradientSig(y3)*X[2]*w[11][0]],\n",
    "         [gradientF(y1,dataPointLabel[counter][0])*gradientSig(y1)*X[3]*w[7][0]+ #W35\n",
    "          gradientF(y2,dataPointLabel[counter][1])*gradientSig(y2)*X[3]*w[9][0]+\n",
    "          gradientF(y3,dataPointLabel[counter][2])*gradientSig(y3)*X[3]*w[11][0]],\n",
    "         [gradientF(y1,dataPointLabel[counter][0])*gradientSig(y1)*X[4]], #W46\n",
    "         [gradientF(y1,dataPointLabel[counter][0])*gradientSig(y1)*X[5]], #W56\n",
    "         [gradientF(y2,dataPointLabel[counter][1])*gradientSig(y2)*X[4]], #W47\n",
    "         [gradientF(y2,dataPointLabel[counter][1])*gradientSig(y2)*X[5]], #W57\n",
    "         [gradientF(y3,dataPointLabel[counter][2])*gradientSig(y3)*X[4]], #W48\n",
    "         [gradientF(y3,dataPointLabel[counter][2])*gradientSig(y3)*X[5]]] #W58\n",
    "    D = np.array(d)\n",
    "    return D"
   ]
  },
  {
   "cell_type": "code",
   "execution_count": 7,
   "id": "3d050320",
   "metadata": {},
   "outputs": [],
   "source": [
    "def calculateDandError(w):\n",
    "    error = 0\n",
    "    counter = 0\n",
    "    test = 0\n",
    "    D = np.array([[0.0],[0.0],[0.0],[0.0],[0.0],[0.0],[0.0],[0.0],[0.0],[0.0],[0.0],[0.0]])\n",
    "    for x in dataPointSet:\n",
    "        xSet = []\n",
    "        xSet.append([])\n",
    "        xSet.append(x[0])\n",
    "        xSet.append(x[1])\n",
    "        xSet.append(x[2])\n",
    "        x4 = x[0]*w[0][0] + x[1]*w[1][0] + x[2]*w[2][0]\n",
    "        x5 = x[0]*w[3][0] + x[1]*w[4][0] + x[2]*w[5][0]\n",
    "        xSet.append(x4)\n",
    "        xSet.append(x5)\n",
    "        y1 = x4*w[6][0] + x5*w[7][0]\n",
    "        y2 = x4*w[8][0] + x5*w[9][0]\n",
    "        y3 = x4*w[10][0] + x5*w[11][0]\n",
    "        #print(y1,y2,y3)\n",
    "        error += calculateError(y1,y2,y3,counter)\n",
    "        D += functionGradient(y1,y2,y3,w,xSet,counter)\n",
    "        counter+=1\n",
    "    return -D, error"
   ]
  },
  {
   "cell_type": "code",
   "execution_count": 8,
   "id": "3b497192",
   "metadata": {},
   "outputs": [],
   "source": [
    "import random\n",
    "teamNumber = 7\n",
    "random.seed(teamNumber)\n",
    "dataPointSet=[]\n",
    "dataPointLabel=[]\n",
    "N=100\n",
    "M=3\n",
    "while len(dataPointSet)<N:\n",
    "    dataPointSet.append([])\n",
    "    for j in range(M):\n",
    "        dataPointSet[-1].append(random.random())\n",
    "    \n",
    "    x = dataPointSet[-1]\n",
    "    if np.linalg.norm(x) == 1 or np.linalg.norm(x) == 1/2 or np.linalg.norm(x) == 0:\n",
    "        dataPointSet.remove(x) #排除掉在圓線上的點\n",
    "    elif np.linalg.norm(x) > 1:\n",
    "        dataPointLabel.append([1,0,0])\n",
    "    elif np.linalg.norm(x) < 1 and np.linalg.norm(x) > 1/2:\n",
    "        dataPointLabel.append([0,1,0])\n",
    "    else:\n",
    "        dataPointLabel.append([0,0,1])\n",
    "#print(dataPointLabel)\n",
    "#print(dataPointSet)    "
   ]
  },
  {
   "cell_type": "code",
   "execution_count": 9,
   "id": "cb4114cb",
   "metadata": {},
   "outputs": [
    {
     "name": "stdout",
     "output_type": "stream",
     "text": [
      "[[0.53162575]\n",
      " [0.44260596]\n",
      " [0.31005357]\n",
      " [0.06078985]\n",
      " [0.78362533]\n",
      " [0.98202775]\n",
      " [0.41236764]\n",
      " [0.63404358]\n",
      " [0.81087921]\n",
      " [0.86108239]\n",
      " [0.76100064]\n",
      " [0.30859988]]\n"
     ]
    }
   ],
   "source": [
    "W = []\n",
    "weight = []\n",
    "random.seed(2022)\n",
    "for i in range(4):\n",
    "    W.append([])\n",
    "    \n",
    "for i in range(2): #W4 W5\n",
    "    W.append([])\n",
    "    for j in range(3):#裡面有三個\n",
    "        W[-1].append(random.random())\n",
    "        \n",
    "for i in range(3): #W6 W7 W8\n",
    "    W.append([])\n",
    "    for j in range(2): #裡面有兩個\n",
    "        W[-1].append(random.random())\n",
    "        \n",
    "for i in W:\n",
    "    if i != []:\n",
    "        for j in i:\n",
    "            weight.append([j])\n",
    "weight = np.array(weight)\n",
    "print(weight)"
   ]
  },
  {
   "cell_type": "code",
   "execution_count": 10,
   "id": "61742ea2",
   "metadata": {},
   "outputs": [
    {
     "name": "stdout",
     "output_type": "stream",
     "text": [
      "[110.04685107994874, 108.12410855798201, 106.25598216159747, 104.44815749409952, 102.70506660758231, 101.02990045122027, 99.4246741222493, 97.89033119258593, 96.42687295842504, 95.03349972490396, 93.70875353560689, 92.45065446888293, 91.25682527544636, 90.12460142802725, 89.05112545815943, 88.03342575045863, 87.06848080623904, 86.15327046470662, 85.28481577625921, 84.46020924424391, 83.67663705823016, 82.93139478522913, 82.22189780138902, 81.54568755886123, 80.90043460468873, 80.28393910800158, 79.69412951146776, 79.12905980311277, 78.58690580403616, 78.0659607842304, 77.56463065038827, 77.08142889402178, 76.61497144334399, 76.16397152633412, 75.72723462364277, 75.30365356715139, 74.8922038219658, 74.49193897548035, 74.10198644614137, 73.72154341605945, 73.349872985171, 72.98630053983584, 72.63021032525586, 72.28104220865937, 71.93828861860513, 71.60149164486134, 71.27024028297483, 70.94416780776068, 70.62294926042696, 70.30629903483528, 69.99396854942759, 69.68574399257456, 69.38144413047898, 69.08091816825876, 68.7840436564069, 68.49072443644224, 68.20088862119461, 67.91448660678299, 67.63148911490819, 67.35188526556944, 67.07568068169782, 66.80289562845027, 66.53356319100789, 66.26772749564803, 66.00544197959907, 65.7467677157242, 65.4917717984176, 65.24052579722213, 64.99310428460626, 64.74958344407217, 64.51003976432173, 64.27454882460621, 64.04318417564126, 63.816016319617475, 63.59311179189352, 63.37453234596129, 63.160334242242435, 62.950567640242106, 62.745276092574215, 62.5444961384076, 62.348256992980346, 62.15658032901447, 61.96948014514022, 61.78696271582701, 61.609026616816216, 61.43566281966633, 61.266854848752274, 61.102578993904075, 60.94280457182038, 60.78749422944242, 60.63660428261328, 60.4900850835658, 60.34788141107062, 60.209932877416854, 60.07617434678831, 59.946536360018456, 59.82094556115193, 59.69932512169848, 59.58159515892614, 59.46767314499847, 59.35747430420683, 59.25091199597894, 59.14789808175461, 59.04834327420164, 58.95215746760295, 58.859250048571376, 58.7695301865461, 58.68290710378893, 58.599290324835565, 58.51858990555973, 58.440716642188214, 58.365582260751815, 58.293099587583406, 58.223182701575084, 58.15574706898553, 58.09070966165008, 58.02798905948814, 57.96750553822972, 57.909181143298596, 57.85293975078978, 57.798707116472976, 57.746410913737144, 57.69598076136812, 57.647348242022815, 57.600446912230815, 57.555212304717365, 57.51158192380276, 57.46949523459298, 57.428893646635, 57.38972049266765, 57.35192100305833, 57.31544227647353, 57.280233247292415, 57.24624465023237, 57.21342898261876, 57.181740464694634, 57.151134998332836, 57.12157012447883, 57.093004979623664, 57.065400251576214, 57.038718134778236, 57.01292228537884, 56.987977776263925, 56.96385105221153, 56.94050988532634, 56.91792333088801, 56.89606168372812, 56.87489643523952, 56.854400231103355, 56.83454682980922, 56.81531106202999, 56.79666879090367]\n"
     ]
    }
   ],
   "source": [
    "k=0 #k:迭代次數\n",
    "dk=[] #存每個迭代的方向向量\n",
    "valuek=[] #存每個迭代的functionValue\n",
    "wk=[]\n",
    "        \n",
    "wk.append(weight)\n",
    "D,E = calculateDandError(weight)\n",
    "dk.append(D)\n",
    "while np.linalg.norm(dk[k]) > 1e-6 and k <=150:\n",
    "    valuek.append(E)\n",
    "    wk.append(wk[k] + 0.001*dk[k])\n",
    "    k += 1\n",
    "    D,E = calculateDandError(wk[k])\n",
    "    dk.append(D)\n",
    "valuek.append(E)\n",
    "print(valuek)\n",
    "\n",
    "    "
   ]
  },
  {
   "cell_type": "code",
   "execution_count": 11,
   "id": "76a863e3",
   "metadata": {
    "scrolled": true
   },
   "outputs": [
    {
     "name": "stdout",
     "output_type": "stream",
     "text": [
      "[[1, 0, 0], [1, 0, 0], [1, 0, 0], [1, 0, 0], [1, 0, 0], [1, 0, 0], [1, 0, 0], [1, 0, 0], [1, 0, 0], [1, 0, 0], [1, 0, 0], [1, 0, 0], [1, 0, 0], [1, 0, 0], [1, 0, 0], [1, 0, 0], [1, 0, 0], [1, 0, 0], [1, 0, 0], [1, 0, 0], [1, 0, 0], [1, 0, 0], [1, 0, 0], [1, 0, 0], [1, 0, 0], [1, 0, 0], [1, 0, 0], [1, 0, 0], [1, 0, 0], [1, 0, 0], [1, 0, 0], [1, 0, 0], [1, 0, 0], [1, 0, 0], [1, 0, 0], [1, 0, 0], [1, 0, 0], [1, 0, 0], [1, 0, 0], [1, 0, 0], [1, 0, 0], [1, 0, 0], [1, 0, 0], [1, 0, 0], [1, 0, 0], [1, 0, 0], [1, 0, 0], [1, 0, 0], [1, 0, 0], [1, 0, 0], [1, 0, 0], [1, 0, 0], [1, 0, 0], [1, 0, 0], [1, 0, 0], [1, 0, 0], [1, 0, 0], [1, 0, 0], [1, 0, 0], [1, 0, 0], [1, 0, 0], [1, 0, 0], [1, 0, 0], [1, 0, 0], [1, 0, 0], [1, 0, 0], [1, 0, 0], [1, 0, 0], [1, 0, 0], [1, 0, 0], [1, 0, 0], [1, 0, 0], [1, 0, 0], [1, 0, 0], [1, 0, 0], [1, 0, 0], [1, 0, 0], [1, 0, 0], [1, 0, 0], [1, 0, 0], [1, 0, 0], [1, 0, 0], [1, 0, 0], [1, 0, 0], [1, 0, 0], [1, 0, 0], [1, 0, 0], [1, 0, 0], [1, 0, 0], [1, 0, 0], [1, 0, 0], [1, 0, 0], [1, 0, 0], [1, 0, 0], [1, 0, 0], [1, 0, 0], [1, 0, 0], [1, 0, 0], [1, 0, 0], [1, 0, 0]]\n"
     ]
    }
   ],
   "source": [
    "optimalW = wk[-1]\n",
    "finalZ = []\n",
    "counter = 0\n",
    "for x in dataPointSet:\n",
    "        finalZ.append([])\n",
    "        x4 = x[0]*optimalW[0][0] + x[1]*optimalW[1][0] + x[2]*optimalW[2][0]\n",
    "        x5 = x[0]*optimalW[3][0] + x[1]*optimalW[4][0] + x[2]*optimalW[5][0]\n",
    "        \n",
    "        y1 = x4*optimalW[6][0] + x5*optimalW[7][0]\n",
    "        y2 = x4*optimalW[8][0] + x5*optimalW[9][0]\n",
    "        y3 = x4*optimalW[10][0] + x5*optimalW[11][0]\n",
    "        #print(y1,y2,y3)\n",
    "        Y = []\n",
    "        Y1 = functionSig(y1)\n",
    "        Y2 = functionSig(y2)\n",
    "        Y3 = functionSig(y3)\n",
    "        Y.append([0])\n",
    "        Y.append(Y1)\n",
    "        Y.append(Y2)\n",
    "        Y.append(Y3)\n",
    "        if max(Y) == Y[1]:\n",
    "            Y[1] = 1\n",
    "            Y[2] = Y[3] = 0\n",
    "            finalZ[counter].append(Y[1])\n",
    "            finalZ[counter].append(Y[2])\n",
    "            finalZ[counter].append(Y[3])\n",
    "        elif max(Y) == Y[2]:\n",
    "            Y[2] = 1\n",
    "            Y[1] = Y[3] = 0\n",
    "            finalZ[counter].append(Y[1])\n",
    "            finalZ[counter].append(Y[2])\n",
    "            finalZ[counter].append(Y[3])\n",
    "        elif max(Y) == Y[3]:\n",
    "            Y[3] = 1\n",
    "            Y[1] = Y[2] = 0\n",
    "            finalZ[counter].append(Y[1])\n",
    "            finalZ[counter].append(Y[2])\n",
    "            finalZ[counter].append(Y[3])\n",
    "        counter+=1\n",
    "print(finalZ)"
   ]
  },
  {
   "cell_type": "code",
   "execution_count": 12,
   "id": "a92b72db",
   "metadata": {},
   "outputs": [
    {
     "data": {
      "text/plain": [
       "[<matplotlib.lines.Line2D at 0x27d769f19d0>]"
      ]
     },
     "execution_count": 12,
     "metadata": {},
     "output_type": "execute_result"
    },
    {
     "data": {
      "image/png": "[encoded data removed]",
      "text/plain": [
       "<Figure size 432x288 with 1 Axes>"
      ]
     },
     "metadata": {
      "needs_background": "light"
     },
     "output_type": "display_data"
    }
   ],
   "source": [
    "X = []\n",
    "for i in range(152):\n",
    "    X.append(i+1)\n",
    "plt.plot(X,valuek,marker=\"o\",color=\"blue\")"
   ]
  }
 ],
 "metadata": {
  "kernelspec": {
   "display_name": "Python 3 (ipykernel)",
   "language": "python",
   "name": "python3"
  },
  "language_info": {
   "codemirror_mode": {
    "name": "ipython",
    "version": 3
   },
   "file_extension": ".py",
   "mimetype": "text/x-python",
   "name": "python",
   "nbconvert_exporter": "python",
   "pygments_lexer": "ipython3",
   "version": "3.9.12"
  }
 },
 "nbformat": 4,
 "nbformat_minor": 5
}
