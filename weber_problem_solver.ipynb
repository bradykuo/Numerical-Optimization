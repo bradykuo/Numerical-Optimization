{
 "cells": [
  {
   "cell_type": "code",
   "execution_count": 283,
   "id": "8e839b9b",
   "metadata": {},
   "outputs": [],
   "source": [
    "#!/usr/bin/env python3.7\n",
    "\n",
    "# Copyright 2022, Gurobi Optimization, LLC\n",
    "\n",
    "# This example formulates and solves the following simple SOCP model:\n",
    "#  minimize    t0+t1+t2\n",
    "#  subject to  x^2 + y^2 <= t0^2 (second-order cone)\n",
    "#              (x-1)^2 + y^2 <= t1^2 (second-order cone)\n",
    "#              (x-1/2)^2 + (y-sqrt(3)/2)^2 <= t2^2 (second-order cone)\n",
    "#              t0, t1, t2 non-negative"
   ]
  },
  {
   "cell_type": "markdown",
   "id": "7194fa3e",
   "metadata": {},
   "source": [
    "$$\n",
    "\\begin{array}{rl}\n",
    "\\min & w_0t_0+w_1t_1+w_2t_2\\\\\n",
    "s.t. & x^2 + y^2 \\leq (t_0)^2 \\\\\n",
    "     & \\sqrt{x^2 + y^2} \\leq t_0 \\\\\n",
    "     & (x-1)^2 + y^2 \\leq (t_1)^2 \\\\\n",
    "     & \\left(x-\\frac{1}{2}\\right)^2 + \\left(y-\\frac{\\sqrt{3}}{2}\\right)^2 \\leq (t_2)^2\\\\\n",
    "     & t_0,t_1,t_2\\geq 0\n",
    "\\end{array}\n",
    "$$\n",
    "The solution should be\n",
    "$$\n",
    "\\left(\\frac{1}{2},\\frac{\\sqrt{3}}{6}\\right)\n",
    "$$"
   ]
  },
  {
   "cell_type": "code",
   "execution_count": 284,
   "id": "a83068b1",
   "metadata": {},
   "outputs": [],
   "source": [
    "import math\n",
    "import gurobipy as gp\n",
    "from gurobipy import GRB"
   ]
  },
  {
   "cell_type": "code",
   "execution_count": 285,
   "id": "0345a818",
   "metadata": {},
   "outputs": [],
   "source": [
    "#DataSet與weight由題目提供，更動此處即可求出(a)(b)(c)的最佳值\n",
    "\n",
    "# # (a) \n",
    "# DataSet=[[0,0],[1,0],[1/2,math.sqrt(3)/2]]\n",
    "# weight=[1,1,1]\n",
    "# (b) \n",
    "# DataSet=[[0,0],[1,0],[0,1],[1,1]]\n",
    "# weight=[1,1,1,1]\n",
    "# (c)\n",
    "DataSet=[[0,0,0],[1,0,0],[0,1,0],[0,0,1],[1,1,0],[1,0,1],[0,1,1],[1,1,1]]\n",
    "weight=[1,1,1,1,1,1,1,1]\n",
    "I = len(DataSet)#使用len()來判斷DataSets內有幾組list"
   ]
  },
  {
   "cell_type": "code",
   "execution_count": 286,
   "id": "79cbe2b4",
   "metadata": {},
   "outputs": [],
   "source": [
    "# Create a new model\n",
    "m = gp.Model(\"TheWeberProblem\")"
   ]
  },
  {
   "cell_type": "code",
   "execution_count": 287,
   "id": "409b170b",
   "metadata": {},
   "outputs": [],
   "source": [
    "# 建立變數，使用if,else來判斷維度DataSets的維度\n",
    "if len (DataSet[0]) <= 2:\n",
    "    x = m.addVar(name=\"x\")\n",
    "    y = m.addVar(name=\"y\")\n",
    "else:\n",
    "    x = m.addVar(name=\"x\")\n",
    "    y = m.addVar(name=\"y\")\n",
    "    z = m.addVar(name=\"z\")\n",
    "t = {}\n",
    "for i in range(0,I):\n",
    "    t[i] = m.addVar(name=\"t%s\"%i)\n",
    "m.update()"
   ]
  },
  {
   "cell_type": "code",
   "execution_count": 288,
   "id": "50baad95",
   "metadata": {},
   "outputs": [],
   "source": [
    "obj = 0\n",
    "for i in range(0, I):#根據DataSets和weight的資料來建立目標式\n",
    "    a = obj\n",
    "    obj = a + weight[i]*t[i]\n",
    "m. setObjective(obj, GRB.MINIMIZE)"
   ]
  },
  {
   "cell_type": "code",
   "execution_count": 289,
   "id": "60d30cb3",
   "metadata": {},
   "outputs": [
    {
     "name": "stdout",
     "output_type": "stream",
     "text": [
      "Set parameter NonConvex to value 2\n"
     ]
    }
   ],
   "source": [
    "if len(DataSet[0]) <=2:#根據DataSets和weight的資料來建立限制式\n",
    "    for i in range(0,I):\n",
    "        m.addConstr((x-DataSet[i][0])**2 + (y-DataSet[i][1])**2 <= t[i]**2, \"qc%s\"%i)\n",
    "else:\n",
    "    for i in range(0,I):\n",
    "        m.addConstr((x-DataSet[i][0])**2 + (y-DataSet[i][1])**2 + (z-DataSet[i][2])**2 <= t[i]**2, \"qc%s\"%i)\n",
    "m.params.NonConvex=2\n"
   ]
  },
  {
   "cell_type": "code",
   "execution_count": 290,
   "id": "a1c00301",
   "metadata": {},
   "outputs": [
    {
     "name": "stdout",
     "output_type": "stream",
     "text": [
      "Gurobi Optimizer version 9.5.2 build v9.5.2rc0 (mac64[rosetta2])\n",
      "Thread count: 8 physical cores, 8 logical processors, using up to 8 threads\n",
      "Optimize a model with 0 rows, 11 columns and 0 nonzeros\n",
      "Model fingerprint: 0x4a491090\n",
      "Model has 8 quadratic constraints\n",
      "Coefficient statistics:\n",
      "  Matrix range     [0e+00, 0e+00]\n",
      "  QMatrix range    [1e+00, 1e+00]\n",
      "  QLMatrix range   [2e+00, 2e+00]\n",
      "  Objective range  [1e+00, 1e+00]\n",
      "  Bounds range     [0e+00, 0e+00]\n",
      "  RHS range        [0e+00, 0e+00]\n",
      "  QRHS range       [1e+00, 3e+00]\n",
      "\n",
      "Continuous model is non-convex -- solving as a MIP\n",
      "\n",
      "Presolve time: 0.00s\n",
      "Presolved: 14 rows, 22 columns, 54 nonzeros\n",
      "Presolved model has 4 quadratic constraint(s)\n",
      "Presolved model has 7 bilinear constraint(s)\n",
      "Variable types: 22 continuous, 0 integer (0 binary)\n",
      "\n",
      "Root relaxation: objective 0.000000e+00, 3 iterations, 0.00 seconds (0.00 work units)\n",
      "\n",
      "    Nodes    |    Current Node    |     Objective Bounds      |     Work\n",
      " Expl Unexpl |  Obj  Depth IntInf | Incumbent    BestBd   Gap | It/Node Time\n",
      "\n",
      "     0     0    0.00000    0    7          -    0.00000      -     -    0s\n",
      "H    0     0                       8.9746915    0.00000   100%     -    0s\n",
      "H    0     0                       6.9282032    0.00000   100%     -    0s\n",
      "H    0     0                       6.9282032    0.00000   100%     -    0s\n",
      "     0     0    1.47932    0    7    6.92820    1.47932  78.6%     -    0s\n",
      "     0     2    1.47932    0    7    6.92820    1.47932  78.6%     -    0s\n",
      "H   33    30                       6.9282032    2.49020  64.1%   5.9    0s\n",
      "H   72    56                       6.9282032    3.36764  51.4%   5.0    0s\n",
      "\n",
      "Explored 4985 nodes (14841 simplex iterations) in 0.42 seconds (0.04 work units)\n",
      "Thread count was 8 (of 8 available processors)\n",
      "\n",
      "Solution count 2: 6.9282 8.97469 \n",
      "\n",
      "Optimal solution found (tolerance 1.00e-04)\n",
      "Best objective 6.928203230269e+00, best bound 6.928111841852e+00, gap 0.0013%\n"
     ]
    }
   ],
   "source": [
    "m.optimize()"
   ]
  },
  {
   "cell_type": "code",
   "execution_count": 291,
   "id": "5f9c8add",
   "metadata": {},
   "outputs": [
    {
     "data": {
      "text/plain": [
       "[<gurobi.Var x (value 0.5000000005038967)>,\n",
       " <gurobi.Var y (value 0.5000000005039231)>,\n",
       " <gurobi.Var z (value 0.4999999976506756)>,\n",
       " <gurobi.Var t0 (value 0.8660254030099206)>,\n",
       " <gurobi.Var t1 (value 0.8660254024264304)>,\n",
       " <gurobi.Var t2 (value 0.8660254024279224)>,\n",
       " <gurobi.Var t3 (value 0.8660254057224088)>,\n",
       " <gurobi.Var t4 (value 0.8660254018463323)>,\n",
       " <gurobi.Var t5 (value 0.8660254051386337)>,\n",
       " <gurobi.Var t6 (value 0.8660254051407453)>,\n",
       " <gurobi.Var t7 (value 0.8660254045564338)>]"
      ]
     },
     "execution_count": 291,
     "metadata": {},
     "output_type": "execute_result"
    }
   ],
   "source": [
    "m.getVars()"
   ]
  },
  {
   "cell_type": "code",
   "execution_count": 292,
   "id": "7f46420c",
   "metadata": {},
   "outputs": [
    {
     "name": "stdout",
     "output_type": "stream",
     "text": [
      "x 0.5\n",
      "y 0.5\n",
      "z 0.5\n",
      "t0 0.866025\n",
      "t1 0.866025\n",
      "t2 0.866025\n",
      "t3 0.866025\n",
      "t4 0.866025\n",
      "t5 0.866025\n",
      "t6 0.866025\n",
      "t7 0.866025\n",
      "Obj: 6.9282\n"
     ]
    }
   ],
   "source": [
    "for v in m.getVars():\n",
    "    print('%s %g' % (v.VarName, v.X))\n",
    "\n",
    "print('Obj: %g' % obj.getValue())"
   ]
  }
 ],
 "metadata": {
  "kernelspec": {
   "display_name": "Python 3 (ipykernel)",
   "language": "python",
   "name": "python3"
  },
  "language_info": {
   "codemirror_mode": {
    "name": "ipython",
    "version": 3
   },
   "file_extension": ".py",
   "mimetype": "text/x-python",
   "name": "python",
   "nbconvert_exporter": "python",
   "pygments_lexer": "ipython3",
   "version": "3.9.12"
  }
 },
 "nbformat": 4,
 "nbformat_minor": 5
}
