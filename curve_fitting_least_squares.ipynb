{
  "cells": [
    {
      "cell_type": "markdown",
      "metadata": {
        "id": "view-in-github",
        "colab_type": "text"
      },
      "source": [
        "<a href=\"https://colab.research.google.com/github/bradykuo/Numerical-Optimization/blob/main/curve_fitting_least_squares.ipynb\" target=\"_parent\"><img src=\"https://colab.research.google.com/assets/colab-badge.svg\" alt=\"Open In Colab\"/></a>"
      ]
    },
    {
      "cell_type": "code",
      "execution_count": null,
      "id": "fea436ec",
      "metadata": {
        "id": "fea436ec",
        "outputId": "8a674907-3f04-4ae1-a0de-73bb7e9bee0e"
      },
      "outputs": [
        {
          "name": "stdout",
          "output_type": "stream",
          "text": [
            "alpha 1 :  [0.97]\n",
            "alpha 2 :  [-1.00275862]\n",
            "alpha 3 :  [6.6]\n"
          ]
        }
      ],
      "source": [
        "import numpy as np\n",
        "import math\n",
        "\n",
        "x = np.array([4.0,4.2,4.5,4.7])\n",
        "\n",
        "A = []\n",
        "for i in range(x.shape[0]):\n",
        "    A.append(np.array([1, x[i], x[i]**2]))\n",
        "A_t = np.transpose(A)\n",
        "\n",
        "y = np.array([102.56,113.18,130.11,142.05])\n",
        "\n",
        "b = []\n",
        "for i in range(y.shape[0]):\n",
        "    b.append(np.array([y[i]]))\n",
        "b_t = np.transpose(b)\n",
        "\n",
        "#compute the vector alpha\n",
        "alpha = np.dot(np.dot(np.linalg.inv(np.dot(A_t, A)),A_t),b)\n",
        "\n",
        "for i in range(alpha.shape[0]):\n",
        "    print(\"alpha\",i+1,\": \",alpha[i])"
      ]
    },
    {
      "cell_type": "code",
      "execution_count": null,
      "id": "163d0fc7",
      "metadata": {
        "id": "163d0fc7"
      },
      "outputs": [],
      "source": []
    }
  ],
  "metadata": {
    "kernelspec": {
      "display_name": "Python 3",
      "language": "python",
      "name": "python3"
    },
    "language_info": {
      "codemirror_mode": {
        "name": "ipython",
        "version": 3
      },
      "file_extension": ".py",
      "mimetype": "text/x-python",
      "name": "python",
      "nbconvert_exporter": "python",
      "pygments_lexer": "ipython3",
      "version": "3.8.8"
    },
    "colab": {
      "provenance": [],
      "include_colab_link": true
    }
  },
  "nbformat": 4,
  "nbformat_minor": 5
}